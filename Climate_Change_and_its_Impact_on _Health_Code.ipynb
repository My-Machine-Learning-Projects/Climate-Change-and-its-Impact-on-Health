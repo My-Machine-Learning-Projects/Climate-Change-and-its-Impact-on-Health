{
 "cells": [
  {
   "cell_type": "markdown",
   "metadata": {},
   "source": [
    "<h1>Climate Change and its Impact on Health</h1>\n",
    "<h3>Project Team Members:</h3>\n",
    "<ul><li>Ameya Shanbhag (avs431)</li>\n",
    "<li>Titash Mandal (tm2761)</li>\n",
    "<li>Vikram Sunil Bajaj (vsb259)</li></ul>"
   ]
  },
  {
   "cell_type": "markdown",
   "metadata": {
    "collapsed": true
   },
   "source": [
    "<h3> Loading the data</h3>"
   ]
  },
  {
   "cell_type": "code",
   "execution_count": 1,
   "metadata": {
    "collapsed": true
   },
   "outputs": [],
   "source": [
    "import pyspark\n",
    "from pyspark.sql import SQLContext\n",
    "from pyspark import SparkContext\n",
    "sc =SparkContext.getOrCreate()\n",
    "sqlContext = SQLContext(sc)\n",
    "df = sqlContext.read.csv(\"pollution_us_2000_2016.csv\", header=True)\n",
    "# df.printSchema()\n",
    "df.registerTempTable(\"Pollution\")"
   ]
  },
  {
   "cell_type": "code",
   "execution_count": 2,
   "metadata": {},
   "outputs": [
    {
     "data": {
      "text/plain": [
       "pyspark.sql.dataframe.DataFrame"
      ]
     },
     "execution_count": 2,
     "metadata": {},
     "output_type": "execute_result"
    }
   ],
   "source": [
    "type(df)"
   ]
  },
  {
   "cell_type": "markdown",
   "metadata": {},
   "source": [
    "<h3> Changing the data type of certains columns to allow querying.</h3>"
   ]
  },
  {
   "cell_type": "code",
   "execution_count": 3,
   "metadata": {
    "collapsed": true
   },
   "outputs": [],
   "source": [
    "from datetime import datetime\n",
    "from pyspark.sql.functions import col, udf\n",
    "from pyspark.sql.types import DateType\n",
    "# converting the date from string to DateTime format using UDF\n",
    "func =  udf (lambda x: datetime.strptime(x, '%Y-%m-%d'), DateType())\n",
    "df_new = df.withColumn('Date', func(col('Date Local')))\n"
   ]
  },
  {
   "cell_type": "code",
   "execution_count": 4,
   "metadata": {
    "collapsed": true
   },
   "outputs": [],
   "source": [
    "from pyspark.sql.types import DoubleType\n",
    "df_new = df_new.withColumn(\"N02AQI\", df_new[\"NO2 AQI\"].cast(DoubleType()))\n",
    "df_new = df_new.withColumn(\"SO2 AQI\", df_new[\"SO2 AQI\"].cast(DoubleType()))\n",
    "df_new = df_new.withColumn(\"CO AQI\", df_new[\"CO AQI\"].cast(DoubleType()))\n",
    "df_new = df_new.withColumn(\"O3 AQI\", df_new[\"O3 AQI\"].cast(DoubleType()))\n",
    "df_new.registerTempTable(\"Pollution_Data\")"
   ]
  },
  {
   "cell_type": "markdown",
   "metadata": {},
   "source": [
    "<h3> Each day has various NO2 AQI levels. <p>We select the daily Maximum NO2 AQI and SO2 AQI for every day of every  month with years ranging from 2000-2016</p></h3>"
   ]
  },
  {
   "cell_type": "code",
   "execution_count": 5,
   "metadata": {
    "collapsed": true
   },
   "outputs": [],
   "source": [
    "q2 = sqlContext.sql(\"SELECT MAX(`NO2 AQI`) as Max_NO2 , MAX(`SO2 AQI`) as SO2_AQI, City,Year(Date) as Yearly FROM Pollution_Data GROUP BY Day(Date),City,Year(Date) ORDER BY City,YEAR(Date)\")\n",
    "q2.registerTempTable('q2')"
   ]
  },
  {
   "cell_type": "markdown",
   "metadata": {},
   "source": [
    "<h3> Select the maximum yearly AQI values for every city. </h3>"
   ]
  },
  {
   "cell_type": "code",
   "execution_count": 6,
   "metadata": {
    "collapsed": true
   },
   "outputs": [],
   "source": [
    "q2_sub = sqlContext.sql(\"SELECT MAX(Max_NO2) as x, MAX(SO2_AQI) as SO2_AQI, City, Yearly FROM q2 GROUP BY Yearly, City ORDER BY Yearly,City\")\n",
    "q2_sub.registerTempTable(\"q2_sub\")"
   ]
  },
  {
   "cell_type": "markdown",
   "metadata": {},
   "source": [
    "<h3> We filter out the AQI values lesser than 80 as an AQI of 80 is concerned as a dangerous level for pollutants in the air </h3>"
   ]
  },
  {
   "cell_type": "code",
   "execution_count": 7,
   "metadata": {},
   "outputs": [
    {
     "name": "stdout",
     "output_type": "stream",
     "text": [
      "+------+-----------+\n",
      "|Yearly|count(City)|\n",
      "+------+-----------+\n",
      "|  2000|         52|\n",
      "|  2001|         41|\n",
      "|  2002|         42|\n",
      "|  2003|         41|\n",
      "|  2004|         35|\n",
      "|  2005|         34|\n",
      "|  2006|         39|\n",
      "|  2007|         34|\n",
      "|  2008|         29|\n",
      "|  2009|         20|\n",
      "|  2010|         12|\n",
      "|  2011|         14|\n",
      "|  2012|         13|\n",
      "|  2013|          7|\n",
      "|  2014|         13|\n",
      "|  2015|         10|\n",
      "|  2016|          3|\n",
      "+------+-----------+\n",
      "\n"
     ]
    }
   ],
   "source": [
    "sqlContext.sql(\"SELECT Yearly, count(City) FROM q2_sub WHERE x >80 OR SO2_AQI>80 GROUP BY Yearly ORDER BY Yearly\").show(100)"
   ]
  },
  {
   "cell_type": "code",
   "execution_count": 8,
   "metadata": {},
   "outputs": [
    {
     "name": "stdout",
     "output_type": "stream",
     "text": [
      "+--------------------+------+\n",
      "|                City|Yearly|\n",
      "+--------------------+------+\n",
      "|          Alexandria|  2000|\n",
      "|             Ashland|  2000|\n",
      "|         Baton Rouge|  2000|\n",
      "|        Beaver Falls|  2000|\n",
      "|             Bristol|  2000|\n",
      "|Calumet City (PU ...|  2000|\n",
      "|              Camden|  2000|\n",
      "|           Charleroi|  2000|\n",
      "|           Charlotte|  2000|\n",
      "|             Chicago|  2000|\n",
      "|             Detroit|  2000|\n",
      "|            Ferguson|  2000|\n",
      "|          Greensburg|  2000|\n",
      "|           Hawthorne|  2000|\n",
      "|           Henderson|  2000|\n",
      "|          Holtsville|  2000|\n",
      "|             Houston|  2000|\n",
      "|Indianapolis (Rem...|  2000|\n",
      "|           Johnstown|  2000|\n",
      "|         Kansas City|  2000|\n",
      "+--------------------+------+\n",
      "only showing top 20 rows\n",
      "\n"
     ]
    }
   ],
   "source": [
    "sqlContext.sql(\"SELECT City, Yearly FROM q2_sub WHERE Yearly=2016 AND x >80 OR SO2_AQI>80\").show(20)"
   ]
  },
  {
   "cell_type": "markdown",
   "metadata": {},
   "source": [
    "<h3> We wanted to check for any city which has atleast 3 pollutants having AQI >80. \n",
    "We found out that Houston and Kansas City have a high pollution level with 3 gases in the higher AQI level. \n",
    "No other combination of gases gave any output for a city.</h3>"
   ]
  },
  {
   "cell_type": "code",
   "execution_count": 9,
   "metadata": {},
   "outputs": [
    {
     "name": "stdout",
     "output_type": "stream",
     "text": [
      "+------+-----------+-----------+-----------+------+-------+------+\n",
      "| State|       City|Max_NO2_AQI|MAX_SO2_AQI|O3_AQI|NO2_AQI|Yearly|\n",
      "+------+-----------+-----------+-----------+------+-------+------+\n",
      "| Texas|    Houston|        101|       86.0| 150.0|    101|  2000|\n",
      "|Kansas|Kansas City|        103|       97.0| 200.0|    103|  2005|\n",
      "+------+-----------+-----------+-----------+------+-------+------+\n",
      "\n"
     ]
    }
   ],
   "source": [
    "sqlContext.sql(\" SELECT State, City, MAX(`NO2 AQI`) as Max_NO2_AQI , MAX(`SO2 AQI`) AS MAX_SO2_AQI, MAX(`O3 AQI`) AS O3_AQI, MAX(`NO2 AQI`) AS NO2_AQI, YEAR(Date) as Yearly FROM Pollution_Data WHERE `O3 AQI` > 80 AND `SO2 AQI`>80 AND `NO2 AQI`>80 GROUP BY YEAR(Date),State,City ORDER BY  YEAR(Date)\").show(100)"
   ]
  },
  {
   "cell_type": "code",
   "execution_count": 10,
   "metadata": {},
   "outputs": [
    {
     "name": "stdout",
     "output_type": "stream",
     "text": [
      "+-----+----+-----------+----------+------+-------+------+\n",
      "|State|City|Max_SO2_AQI|MAX_O3_AQI|CO_AQI|NO2_AQI|Yearly|\n",
      "+-----+----+-----------+----------+------+-------+------+\n",
      "+-----+----+-----------+----------+------+-------+------+\n",
      "\n"
     ]
    }
   ],
   "source": [
    "sqlContext.sql(\" SELECT State, City, MAX(`SO2 AQI`) as Max_SO2_AQI , MAX(`O3 AQI`) AS MAX_O3_AQI, MAX(`CO AQI`) AS CO_AQI, MAX(`NO2 AQI`) AS NO2_AQI, YEAR(Date) as Yearly FROM Pollution_Data WHERE `O3 AQI` > 80 AND `SO2 AQI`>80 AND `CO AQI`>80 GROUP BY YEAR(Date),State,City ORDER BY  YEAR(Date)\").show(100)"
   ]
  },
  {
   "cell_type": "code",
   "execution_count": 11,
   "metadata": {
    "collapsed": true
   },
   "outputs": [],
   "source": [
    "most_polluted_cities_yearly =sqlContext.sql(\"SELECT State, City, MAX(`N02AQI`) as Max_NO2_AQI , YEAR(Date) as Yearly FROM Pollution_Data WHERE `N02AQI`>80 GROUP BY YEAR(Date),City,State ORDER BY  YEAR(Date),MAX(`N02AQI`) DESC\")\n",
    "most_polluted_cities_yearly.registerTempTable(\"most_polluted_cities_yearly\")"
   ]
  },
  {
   "cell_type": "markdown",
   "metadata": {},
   "source": [
    "<h3> Yearly most polluted cities ordered in Desceding order by AQI Levels with years ranging from 2000-2016.</h3>"
   ]
  },
  {
   "cell_type": "code",
   "execution_count": 134,
   "metadata": {},
   "outputs": [
    {
     "name": "stdout",
     "output_type": "stream",
     "text": [
      "+--------------------+--------------------+-----------+-----------+----------+------+------+\n",
      "|               State|                City|Max_NO2_AQI|Max_SO2_AQI|MAX_O3_AQI|CO_AQI|Yearly|\n",
      "+--------------------+--------------------+-----------+-----------+----------+------+------+\n",
      "|            Missouri|           St. Louis|       80.0|      103.0|     140.0|  52.0|  2000|\n",
      "|          California|       Not in a city|       84.0|       21.0|     154.0|  35.0|  2000|\n",
      "|        Pennsylvania|             Reading|       57.0|      135.0|     172.0|  22.0|  2000|\n",
      "|            Virginia|          Alexandria|       74.0|      109.0|     150.0|  25.0|  2000|\n",
      "|          California|          Long Beach|      108.0|       65.0|     114.0|  63.0|  2000|\n",
      "|            Michigan|             Detroit|       93.0|      134.0|     114.0|  51.0|  2000|\n",
      "|          California|           Davenport|       33.0|       33.0|      47.0|   9.0|  2000|\n",
      "|          California|              Goleta|       54.0|       13.0|      74.0|  18.0|  2000|\n",
      "|          California|       Bethel Island|       41.0|       26.0|     124.0|  17.0|  2000|\n",
      "|        Pennsylvania|           Lancaster|       55.0|       79.0|     177.0|  19.0|  2000|\n",
      "|              Kansas|         Kansas City|       74.0|      101.0|     132.0|  57.0|  2000|\n",
      "|            Illinois|              Cicero|       84.0|       79.0|      87.0|  38.0|  2000|\n",
      "|            Illinois|Calumet City (PU ...|       58.0|      136.0|     101.0|  24.0|  2000|\n",
      "|          California|           San Pablo|       64.0|       39.0|      74.0|  22.0|  2000|\n",
      "|            Missouri|             St. Ann|       84.0|       91.0|     142.0|  22.0|  2000|\n",
      "|          California|Vandenberg Air Fo...|       31.0|        6.0|      80.0|   6.0|  2000|\n",
      "|          California|       San Francisco|       72.0|       27.0|      36.0|  36.0|  2000|\n",
      "|        Pennsylvania|          Pittsburgh|       74.0|      117.0|     169.0|  18.0|  2000|\n",
      "|        Pennsylvania|          Norristown|       64.0|       44.0|     207.0|  16.0|  2000|\n",
      "|             Indiana|Indianapolis (Rem...|       58.0|       89.0|     142.0|  33.0|  2000|\n",
      "|District Of Columbia|          Washington|      109.0|      104.0|     164.0|  58.0|  2000|\n",
      "|          California|             Concord|       72.0|       29.0|     147.0|  31.0|  2000|\n",
      "|        Pennsylvania|          Greensburg|       49.0|      110.0|     145.0|  17.0|  2000|\n",
      "|            Illinois|             Chicago|       97.0|      102.0|      42.0|  26.0|  2000|\n",
      "|            New York|          Holtsville|       67.0|       86.0|     203.0|  32.0|  2000|\n",
      "|          California|            Rubidoux|       94.0|      115.0|     192.0|  48.0|  2000|\n",
      "|          California|         Victorville|       94.0|       36.0|     179.0|  18.0|  2000|\n",
      "|               Texas|             Houston|      101.0|      172.0|     203.0|  42.0|  2000|\n",
      "|            Virginia|       Seven Corners|       87.0|       89.0|     161.0|  32.0|  2000|\n",
      "|        Pennsylvania|        Freemansburg|       44.0|       59.0|     201.0|  26.0|  2000|\n",
      "+--------------------+--------------------+-----------+-----------+----------+------+------+\n",
      "only showing top 30 rows\n",
      "\n"
     ]
    }
   ],
   "source": [
    "sqlContext.sql(\"SELECT State,City, MAX(`N02AQI`) as Max_NO2_AQI , MAX(`SO2 AQI`) as Max_SO2_AQI , MAX(`O3 AQI`) AS MAX_O3_AQI, MAX(`CO AQI`) AS CO_AQI, YEAR(Date) as Yearly FROM Pollution_Data GROUP BY YEAR(Date),City,State ORDER BY  YEAR(Date)\").show(30)"
   ]
  },
  {
   "cell_type": "code",
   "execution_count": 138,
   "metadata": {
    "collapsed": true
   },
   "outputs": [],
   "source": [
    "t1=sqlContext.sql(\"SELECT State,City, MAX(`N02AQI`) as Max_NO2_AQI , MAX(`SO2 AQI`) as Max_SO2_AQI , MAX(`O3 AQI`) AS MAX_O3_AQI, MAX(`CO AQI`) AS Max_CO_AQI, YEAR(Date) as Yearly FROM Pollution_Data GROUP BY YEAR(Date),City,State ORDER BY  YEAR(Date)\")\n",
    "t1.registerTempTable(\"Entire_Pollution\")"
   ]
  },
  {
   "cell_type": "markdown",
   "metadata": {},
   "source": [
    "<h3> We wanted to check which cities have constantly featured as having a higher pollution level as compared to other cities. <p>We ranked every city based on their pollution level and found the top polluted cities.\n",
    "These cities have constantly shown up in many consecutive years.<p> </h3>"
   ]
  },
  {
   "cell_type": "code",
   "execution_count": 13,
   "metadata": {},
   "outputs": [
    {
     "name": "stdout",
     "output_type": "stream",
     "text": [
      "+--------------------+------------+-----+\n",
      "|               State|        City|Count|\n",
      "+--------------------+------------+-----+\n",
      "|          California|    Calexico|   16|\n",
      "|          California| Los Angeles|   15|\n",
      "|          California|  Long Beach|   14|\n",
      "|            New York|    New York|   13|\n",
      "|          California|   San Diego|   11|\n",
      "|            Colorado|       Welby|   11|\n",
      "|District Of Columbia|  Washington|   11|\n",
      "|          California|     Burbank|   11|\n",
      "|               Texas|     El Paso|   10|\n",
      "|        Pennsylvania|Philadelphia|   10|\n",
      "+--------------------+------------+-----+\n",
      "\n"
     ]
    }
   ],
   "source": [
    "Top_polluted_cities=sqlContext.sql(\"SELECT State,City,COUNT(Yearly) as Count  FROM most_polluted_cities_yearly GROUP BY City,State ORDER BY COUNT(Yearly) DESC LIMIT 10\")\n",
    "Top_polluted_cities.registerTempTable(\"Top_polluted_cities\")\n",
    "Top_polluted_cities.show(20)\n"
   ]
  },
  {
   "cell_type": "code",
   "execution_count": 14,
   "metadata": {
    "collapsed": true
   },
   "outputs": [],
   "source": [
    "table_state=sqlContext.sql(\"SELECT Top_polluted_cities.City as City, Top_polluted_cities.State as State, most_polluted_cities_yearly.Max_NO2_AQI, most_polluted_cities_yearly.Yearly  as Yearly FROM Top_polluted_cities JOIN most_polluted_cities_yearly ON Top_polluted_cities.City=most_polluted_cities_yearly.City GROUP BY Top_polluted_cities.`City`,most_polluted_cities_yearly.Max_NO2_AQI,most_polluted_cities_yearly.Yearly ,Top_polluted_cities.`State` ORDER BY Top_polluted_cities.`City`,most_polluted_cities_yearly.Yearly  \")\n",
    "table_state.toPandas().to_csv(\"State_Polluted_Data.csv\")"
   ]
  },
  {
   "cell_type": "code",
   "execution_count": 15,
   "metadata": {},
   "outputs": [
    {
     "name": "stdout",
     "output_type": "stream",
     "text": [
      "+--------+-----------+------+\n",
      "|    City|Max_NO2_AQI|Yearly|\n",
      "+--------+-----------+------+\n",
      "| Burbank|      113.0|  2000|\n",
      "| Burbank|      129.0|  2001|\n",
      "| Burbank|      131.0|  2002|\n",
      "| Burbank|      108.0|  2003|\n",
      "| Burbank|      105.0|  2004|\n",
      "| Burbank|       88.0|  2005|\n",
      "| Burbank|      101.0|  2006|\n",
      "| Burbank|       86.0|  2007|\n",
      "| Burbank|      102.0|  2008|\n",
      "| Burbank|       87.0|  2009|\n",
      "| Burbank|       81.0|  2010|\n",
      "|Calexico|      118.0|  2000|\n",
      "|Calexico|      108.0|  2001|\n",
      "|Calexico|      108.0|  2002|\n",
      "|Calexico|      111.0|  2003|\n",
      "|Calexico|      102.0|  2004|\n",
      "|Calexico|      107.0|  2005|\n",
      "|Calexico|      101.0|  2006|\n",
      "|Calexico|      102.0|  2007|\n",
      "|Calexico|      110.0|  2008|\n",
      "+--------+-----------+------+\n",
      "only showing top 20 rows\n",
      "\n"
     ]
    }
   ],
   "source": [
    "table=sqlContext.sql(\"SELECT Top_polluted_cities.City as City, most_polluted_cities_yearly.Max_NO2_AQI, most_polluted_cities_yearly.Yearly  as Yearly FROM Top_polluted_cities JOIN most_polluted_cities_yearly ON Top_polluted_cities.City=most_polluted_cities_yearly.City GROUP BY Top_polluted_cities.`City`,most_polluted_cities_yearly.Max_NO2_AQI,most_polluted_cities_yearly.Yearly  ORDER BY Top_polluted_cities.`City`,most_polluted_cities_yearly.Yearly  \")\n",
    "table.show()\n",
    "table.registerTempTable(\"Final_Table\")\n",
    "table.toPandas().to_csv(\"Non_Pivoted_Table.csv\")"
   ]
  },
  {
   "cell_type": "code",
   "execution_count": 16,
   "metadata": {
    "collapsed": true
   },
   "outputs": [],
   "source": [
    "table=table.toPandas()"
   ]
  },
  {
   "cell_type": "code",
   "execution_count": 17,
   "metadata": {},
   "outputs": [
    {
     "data": {
      "text/plain": [
       "pandas.core.frame.DataFrame"
      ]
     },
     "execution_count": 17,
     "metadata": {},
     "output_type": "execute_result"
    }
   ],
   "source": [
    "type(table)"
   ]
  },
  {
   "cell_type": "markdown",
   "metadata": {},
   "source": [
    "<h3> To plot the table on a graph using R, we pivoted the tabled based on the cities, with their yearly AQI values as rows. </h3>"
   ]
  },
  {
   "cell_type": "code",
   "execution_count": 18,
   "metadata": {},
   "outputs": [
    {
     "data": {
      "text/html": [
       "<div>\n",
       "<style>\n",
       "    .dataframe thead tr:only-child th {\n",
       "        text-align: right;\n",
       "    }\n",
       "\n",
       "    .dataframe thead th {\n",
       "        text-align: left;\n",
       "    }\n",
       "\n",
       "    .dataframe tbody tr th {\n",
       "        vertical-align: top;\n",
       "    }\n",
       "</style>\n",
       "<table border=\"1\" class=\"dataframe\">\n",
       "  <thead>\n",
       "    <tr style=\"text-align: right;\">\n",
       "      <th>City</th>\n",
       "      <th>Burbank</th>\n",
       "      <th>Calexico</th>\n",
       "      <th>El Paso</th>\n",
       "      <th>Long Beach</th>\n",
       "      <th>Los Angeles</th>\n",
       "      <th>New York</th>\n",
       "      <th>Philadelphia</th>\n",
       "      <th>San Diego</th>\n",
       "      <th>Washington</th>\n",
       "      <th>Welby</th>\n",
       "    </tr>\n",
       "    <tr>\n",
       "      <th>Yearly</th>\n",
       "      <th></th>\n",
       "      <th></th>\n",
       "      <th></th>\n",
       "      <th></th>\n",
       "      <th></th>\n",
       "      <th></th>\n",
       "      <th></th>\n",
       "      <th></th>\n",
       "      <th></th>\n",
       "      <th></th>\n",
       "    </tr>\n",
       "  </thead>\n",
       "  <tbody>\n",
       "    <tr>\n",
       "      <th>2000</th>\n",
       "      <td>113.0</td>\n",
       "      <td>118.0</td>\n",
       "      <td>99.0</td>\n",
       "      <td>108.0</td>\n",
       "      <td>111.0</td>\n",
       "      <td>101.0</td>\n",
       "      <td>95.0</td>\n",
       "      <td>104.0</td>\n",
       "      <td>109.0</td>\n",
       "      <td>109.0</td>\n",
       "    </tr>\n",
       "    <tr>\n",
       "      <th>2001</th>\n",
       "      <td>129.0</td>\n",
       "      <td>108.0</td>\n",
       "      <td>101.0</td>\n",
       "      <td>105.0</td>\n",
       "      <td>112.0</td>\n",
       "      <td>102.0</td>\n",
       "      <td>87.0</td>\n",
       "      <td>110.0</td>\n",
       "      <td>88.0</td>\n",
       "      <td>102.0</td>\n",
       "    </tr>\n",
       "    <tr>\n",
       "      <th>2002</th>\n",
       "      <td>131.0</td>\n",
       "      <td>108.0</td>\n",
       "      <td>111.0</td>\n",
       "      <td>106.0</td>\n",
       "      <td>112.0</td>\n",
       "      <td>102.0</td>\n",
       "      <td>85.0</td>\n",
       "      <td>106.0</td>\n",
       "      <td>101.0</td>\n",
       "      <td>NaN</td>\n",
       "    </tr>\n",
       "    <tr>\n",
       "      <th>2003</th>\n",
       "      <td>108.0</td>\n",
       "      <td>111.0</td>\n",
       "      <td>100.0</td>\n",
       "      <td>107.0</td>\n",
       "      <td>113.0</td>\n",
       "      <td>105.0</td>\n",
       "      <td>100.0</td>\n",
       "      <td>110.0</td>\n",
       "      <td>101.0</td>\n",
       "      <td>108.0</td>\n",
       "    </tr>\n",
       "    <tr>\n",
       "      <th>2004</th>\n",
       "      <td>105.0</td>\n",
       "      <td>102.0</td>\n",
       "      <td>81.0</td>\n",
       "      <td>105.0</td>\n",
       "      <td>112.0</td>\n",
       "      <td>109.0</td>\n",
       "      <td>101.0</td>\n",
       "      <td>106.0</td>\n",
       "      <td>104.0</td>\n",
       "      <td>103.0</td>\n",
       "    </tr>\n",
       "    <tr>\n",
       "      <th>2005</th>\n",
       "      <td>88.0</td>\n",
       "      <td>107.0</td>\n",
       "      <td>82.0</td>\n",
       "      <td>108.0</td>\n",
       "      <td>106.0</td>\n",
       "      <td>91.0</td>\n",
       "      <td>85.0</td>\n",
       "      <td>103.0</td>\n",
       "      <td>104.0</td>\n",
       "      <td>96.0</td>\n",
       "    </tr>\n",
       "    <tr>\n",
       "      <th>2006</th>\n",
       "      <td>101.0</td>\n",
       "      <td>101.0</td>\n",
       "      <td>103.0</td>\n",
       "      <td>101.0</td>\n",
       "      <td>103.0</td>\n",
       "      <td>91.0</td>\n",
       "      <td>102.0</td>\n",
       "      <td>97.0</td>\n",
       "      <td>104.0</td>\n",
       "      <td>89.0</td>\n",
       "    </tr>\n",
       "    <tr>\n",
       "      <th>2007</th>\n",
       "      <td>86.0</td>\n",
       "      <td>102.0</td>\n",
       "      <td>89.0</td>\n",
       "      <td>102.0</td>\n",
       "      <td>102.0</td>\n",
       "      <td>101.0</td>\n",
       "      <td>87.0</td>\n",
       "      <td>101.0</td>\n",
       "      <td>81.0</td>\n",
       "      <td>103.0</td>\n",
       "    </tr>\n",
       "    <tr>\n",
       "      <th>2008</th>\n",
       "      <td>102.0</td>\n",
       "      <td>110.0</td>\n",
       "      <td>88.0</td>\n",
       "      <td>106.0</td>\n",
       "      <td>105.0</td>\n",
       "      <td>82.0</td>\n",
       "      <td>NaN</td>\n",
       "      <td>105.0</td>\n",
       "      <td>101.0</td>\n",
       "      <td>84.0</td>\n",
       "    </tr>\n",
       "    <tr>\n",
       "      <th>2009</th>\n",
       "      <td>87.0</td>\n",
       "      <td>101.0</td>\n",
       "      <td>NaN</td>\n",
       "      <td>103.0</td>\n",
       "      <td>104.0</td>\n",
       "      <td>95.0</td>\n",
       "      <td>NaN</td>\n",
       "      <td>90.0</td>\n",
       "      <td>82.0</td>\n",
       "      <td>83.0</td>\n",
       "    </tr>\n",
       "    <tr>\n",
       "      <th>2010</th>\n",
       "      <td>81.0</td>\n",
       "      <td>NaN</td>\n",
       "      <td>NaN</td>\n",
       "      <td>104.0</td>\n",
       "      <td>88.0</td>\n",
       "      <td>102.0</td>\n",
       "      <td>106.0</td>\n",
       "      <td>82.0</td>\n",
       "      <td>85.0</td>\n",
       "      <td>NaN</td>\n",
       "    </tr>\n",
       "    <tr>\n",
       "      <th>2011</th>\n",
       "      <td>NaN</td>\n",
       "      <td>106.0</td>\n",
       "      <td>NaN</td>\n",
       "      <td>102.0</td>\n",
       "      <td>103.0</td>\n",
       "      <td>NaN</td>\n",
       "      <td>86.0</td>\n",
       "      <td>NaN</td>\n",
       "      <td>NaN</td>\n",
       "      <td>NaN</td>\n",
       "    </tr>\n",
       "    <tr>\n",
       "      <th>2012</th>\n",
       "      <td>NaN</td>\n",
       "      <td>90.0</td>\n",
       "      <td>NaN</td>\n",
       "      <td>97.0</td>\n",
       "      <td>NaN</td>\n",
       "      <td>NaN</td>\n",
       "      <td>NaN</td>\n",
       "      <td>NaN</td>\n",
       "      <td>NaN</td>\n",
       "      <td>NaN</td>\n",
       "    </tr>\n",
       "    <tr>\n",
       "      <th>2013</th>\n",
       "      <td>NaN</td>\n",
       "      <td>111.0</td>\n",
       "      <td>NaN</td>\n",
       "      <td>NaN</td>\n",
       "      <td>89.0</td>\n",
       "      <td>NaN</td>\n",
       "      <td>NaN</td>\n",
       "      <td>NaN</td>\n",
       "      <td>NaN</td>\n",
       "      <td>87.0</td>\n",
       "    </tr>\n",
       "    <tr>\n",
       "      <th>2014</th>\n",
       "      <td>NaN</td>\n",
       "      <td>93.0</td>\n",
       "      <td>NaN</td>\n",
       "      <td>107.0</td>\n",
       "      <td>86.0</td>\n",
       "      <td>NaN</td>\n",
       "      <td>NaN</td>\n",
       "      <td>NaN</td>\n",
       "      <td>NaN</td>\n",
       "      <td>102.0</td>\n",
       "    </tr>\n",
       "    <tr>\n",
       "      <th>2015</th>\n",
       "      <td>NaN</td>\n",
       "      <td>82.0</td>\n",
       "      <td>93.0</td>\n",
       "      <td>NaN</td>\n",
       "      <td>86.0</td>\n",
       "      <td>97.0</td>\n",
       "      <td>NaN</td>\n",
       "      <td>NaN</td>\n",
       "      <td>NaN</td>\n",
       "      <td>NaN</td>\n",
       "    </tr>\n",
       "    <tr>\n",
       "      <th>2016</th>\n",
       "      <td>NaN</td>\n",
       "      <td>83.0</td>\n",
       "      <td>NaN</td>\n",
       "      <td>NaN</td>\n",
       "      <td>NaN</td>\n",
       "      <td>88.0</td>\n",
       "      <td>NaN</td>\n",
       "      <td>NaN</td>\n",
       "      <td>NaN</td>\n",
       "      <td>NaN</td>\n",
       "    </tr>\n",
       "  </tbody>\n",
       "</table>\n",
       "</div>"
      ],
      "text/plain": [
       "City    Burbank  Calexico  El Paso  Long Beach  Los Angeles  New York  \\\n",
       "Yearly                                                                  \n",
       "2000      113.0     118.0     99.0       108.0        111.0     101.0   \n",
       "2001      129.0     108.0    101.0       105.0        112.0     102.0   \n",
       "2002      131.0     108.0    111.0       106.0        112.0     102.0   \n",
       "2003      108.0     111.0    100.0       107.0        113.0     105.0   \n",
       "2004      105.0     102.0     81.0       105.0        112.0     109.0   \n",
       "2005       88.0     107.0     82.0       108.0        106.0      91.0   \n",
       "2006      101.0     101.0    103.0       101.0        103.0      91.0   \n",
       "2007       86.0     102.0     89.0       102.0        102.0     101.0   \n",
       "2008      102.0     110.0     88.0       106.0        105.0      82.0   \n",
       "2009       87.0     101.0      NaN       103.0        104.0      95.0   \n",
       "2010       81.0       NaN      NaN       104.0         88.0     102.0   \n",
       "2011        NaN     106.0      NaN       102.0        103.0       NaN   \n",
       "2012        NaN      90.0      NaN        97.0          NaN       NaN   \n",
       "2013        NaN     111.0      NaN         NaN         89.0       NaN   \n",
       "2014        NaN      93.0      NaN       107.0         86.0       NaN   \n",
       "2015        NaN      82.0     93.0         NaN         86.0      97.0   \n",
       "2016        NaN      83.0      NaN         NaN          NaN      88.0   \n",
       "\n",
       "City    Philadelphia  San Diego  Washington  Welby  \n",
       "Yearly                                              \n",
       "2000            95.0      104.0       109.0  109.0  \n",
       "2001            87.0      110.0        88.0  102.0  \n",
       "2002            85.0      106.0       101.0    NaN  \n",
       "2003           100.0      110.0       101.0  108.0  \n",
       "2004           101.0      106.0       104.0  103.0  \n",
       "2005            85.0      103.0       104.0   96.0  \n",
       "2006           102.0       97.0       104.0   89.0  \n",
       "2007            87.0      101.0        81.0  103.0  \n",
       "2008             NaN      105.0       101.0   84.0  \n",
       "2009             NaN       90.0        82.0   83.0  \n",
       "2010           106.0       82.0        85.0    NaN  \n",
       "2011            86.0        NaN         NaN    NaN  \n",
       "2012             NaN        NaN         NaN    NaN  \n",
       "2013             NaN        NaN         NaN   87.0  \n",
       "2014             NaN        NaN         NaN  102.0  \n",
       "2015             NaN        NaN         NaN    NaN  \n",
       "2016             NaN        NaN         NaN    NaN  "
      ]
     },
     "execution_count": 18,
     "metadata": {},
     "output_type": "execute_result"
    }
   ],
   "source": [
    "table=table.pivot(index= 'Yearly',columns='City', values='Max_NO2_AQI')\n",
    "table"
   ]
  },
  {
   "cell_type": "code",
   "execution_count": 19,
   "metadata": {
    "collapsed": true
   },
   "outputs": [],
   "source": [
    "import numpy as np\n",
    "for city in list(table):\n",
    "    means=np.nanmean(table[city])\n",
    "    table[city].fillna(means,inplace=True)\n"
   ]
  },
  {
   "cell_type": "code",
   "execution_count": 20,
   "metadata": {},
   "outputs": [
    {
     "data": {
      "text/html": [
       "<div>\n",
       "<style>\n",
       "    .dataframe thead tr:only-child th {\n",
       "        text-align: right;\n",
       "    }\n",
       "\n",
       "    .dataframe thead th {\n",
       "        text-align: left;\n",
       "    }\n",
       "\n",
       "    .dataframe tbody tr th {\n",
       "        vertical-align: top;\n",
       "    }\n",
       "</style>\n",
       "<table border=\"1\" class=\"dataframe\">\n",
       "  <thead>\n",
       "    <tr style=\"text-align: right;\">\n",
       "      <th>City</th>\n",
       "      <th>Burbank</th>\n",
       "      <th>Calexico</th>\n",
       "      <th>El Paso</th>\n",
       "      <th>Long Beach</th>\n",
       "      <th>Los Angeles</th>\n",
       "      <th>New York</th>\n",
       "      <th>Philadelphia</th>\n",
       "      <th>San Diego</th>\n",
       "      <th>Washington</th>\n",
       "      <th>Welby</th>\n",
       "    </tr>\n",
       "    <tr>\n",
       "      <th>Yearly</th>\n",
       "      <th></th>\n",
       "      <th></th>\n",
       "      <th></th>\n",
       "      <th></th>\n",
       "      <th></th>\n",
       "      <th></th>\n",
       "      <th></th>\n",
       "      <th></th>\n",
       "      <th></th>\n",
       "      <th></th>\n",
       "    </tr>\n",
       "  </thead>\n",
       "  <tbody>\n",
       "    <tr>\n",
       "      <th>2000</th>\n",
       "      <td>113.000000</td>\n",
       "      <td>118.0000</td>\n",
       "      <td>99.0</td>\n",
       "      <td>108.000000</td>\n",
       "      <td>111.000000</td>\n",
       "      <td>101.000000</td>\n",
       "      <td>95.0</td>\n",
       "      <td>104.000000</td>\n",
       "      <td>109.000000</td>\n",
       "      <td>109.000000</td>\n",
       "    </tr>\n",
       "    <tr>\n",
       "      <th>2001</th>\n",
       "      <td>129.000000</td>\n",
       "      <td>108.0000</td>\n",
       "      <td>101.0</td>\n",
       "      <td>105.000000</td>\n",
       "      <td>112.000000</td>\n",
       "      <td>102.000000</td>\n",
       "      <td>87.0</td>\n",
       "      <td>110.000000</td>\n",
       "      <td>88.000000</td>\n",
       "      <td>102.000000</td>\n",
       "    </tr>\n",
       "    <tr>\n",
       "      <th>2002</th>\n",
       "      <td>131.000000</td>\n",
       "      <td>108.0000</td>\n",
       "      <td>111.0</td>\n",
       "      <td>106.000000</td>\n",
       "      <td>112.000000</td>\n",
       "      <td>102.000000</td>\n",
       "      <td>85.0</td>\n",
       "      <td>106.000000</td>\n",
       "      <td>101.000000</td>\n",
       "      <td>96.909091</td>\n",
       "    </tr>\n",
       "    <tr>\n",
       "      <th>2003</th>\n",
       "      <td>108.000000</td>\n",
       "      <td>111.0000</td>\n",
       "      <td>100.0</td>\n",
       "      <td>107.000000</td>\n",
       "      <td>113.000000</td>\n",
       "      <td>105.000000</td>\n",
       "      <td>100.0</td>\n",
       "      <td>110.000000</td>\n",
       "      <td>101.000000</td>\n",
       "      <td>108.000000</td>\n",
       "    </tr>\n",
       "    <tr>\n",
       "      <th>2004</th>\n",
       "      <td>105.000000</td>\n",
       "      <td>102.0000</td>\n",
       "      <td>81.0</td>\n",
       "      <td>105.000000</td>\n",
       "      <td>112.000000</td>\n",
       "      <td>109.000000</td>\n",
       "      <td>101.0</td>\n",
       "      <td>106.000000</td>\n",
       "      <td>104.000000</td>\n",
       "      <td>103.000000</td>\n",
       "    </tr>\n",
       "    <tr>\n",
       "      <th>2005</th>\n",
       "      <td>88.000000</td>\n",
       "      <td>107.0000</td>\n",
       "      <td>82.0</td>\n",
       "      <td>108.000000</td>\n",
       "      <td>106.000000</td>\n",
       "      <td>91.000000</td>\n",
       "      <td>85.0</td>\n",
       "      <td>103.000000</td>\n",
       "      <td>104.000000</td>\n",
       "      <td>96.000000</td>\n",
       "    </tr>\n",
       "    <tr>\n",
       "      <th>2006</th>\n",
       "      <td>101.000000</td>\n",
       "      <td>101.0000</td>\n",
       "      <td>103.0</td>\n",
       "      <td>101.000000</td>\n",
       "      <td>103.000000</td>\n",
       "      <td>91.000000</td>\n",
       "      <td>102.0</td>\n",
       "      <td>97.000000</td>\n",
       "      <td>104.000000</td>\n",
       "      <td>89.000000</td>\n",
       "    </tr>\n",
       "    <tr>\n",
       "      <th>2007</th>\n",
       "      <td>86.000000</td>\n",
       "      <td>102.0000</td>\n",
       "      <td>89.0</td>\n",
       "      <td>102.000000</td>\n",
       "      <td>102.000000</td>\n",
       "      <td>101.000000</td>\n",
       "      <td>87.0</td>\n",
       "      <td>101.000000</td>\n",
       "      <td>81.000000</td>\n",
       "      <td>103.000000</td>\n",
       "    </tr>\n",
       "    <tr>\n",
       "      <th>2008</th>\n",
       "      <td>102.000000</td>\n",
       "      <td>110.0000</td>\n",
       "      <td>88.0</td>\n",
       "      <td>106.000000</td>\n",
       "      <td>105.000000</td>\n",
       "      <td>82.000000</td>\n",
       "      <td>93.4</td>\n",
       "      <td>105.000000</td>\n",
       "      <td>101.000000</td>\n",
       "      <td>84.000000</td>\n",
       "    </tr>\n",
       "    <tr>\n",
       "      <th>2009</th>\n",
       "      <td>87.000000</td>\n",
       "      <td>101.0000</td>\n",
       "      <td>94.7</td>\n",
       "      <td>103.000000</td>\n",
       "      <td>104.000000</td>\n",
       "      <td>95.000000</td>\n",
       "      <td>93.4</td>\n",
       "      <td>90.000000</td>\n",
       "      <td>82.000000</td>\n",
       "      <td>83.000000</td>\n",
       "    </tr>\n",
       "    <tr>\n",
       "      <th>2010</th>\n",
       "      <td>81.000000</td>\n",
       "      <td>102.0625</td>\n",
       "      <td>94.7</td>\n",
       "      <td>104.000000</td>\n",
       "      <td>88.000000</td>\n",
       "      <td>102.000000</td>\n",
       "      <td>106.0</td>\n",
       "      <td>82.000000</td>\n",
       "      <td>85.000000</td>\n",
       "      <td>96.909091</td>\n",
       "    </tr>\n",
       "    <tr>\n",
       "      <th>2011</th>\n",
       "      <td>102.818182</td>\n",
       "      <td>106.0000</td>\n",
       "      <td>94.7</td>\n",
       "      <td>102.000000</td>\n",
       "      <td>103.000000</td>\n",
       "      <td>97.384615</td>\n",
       "      <td>86.0</td>\n",
       "      <td>101.272727</td>\n",
       "      <td>96.363636</td>\n",
       "      <td>96.909091</td>\n",
       "    </tr>\n",
       "    <tr>\n",
       "      <th>2012</th>\n",
       "      <td>102.818182</td>\n",
       "      <td>90.0000</td>\n",
       "      <td>94.7</td>\n",
       "      <td>97.000000</td>\n",
       "      <td>102.133333</td>\n",
       "      <td>97.384615</td>\n",
       "      <td>93.4</td>\n",
       "      <td>101.272727</td>\n",
       "      <td>96.363636</td>\n",
       "      <td>96.909091</td>\n",
       "    </tr>\n",
       "    <tr>\n",
       "      <th>2013</th>\n",
       "      <td>102.818182</td>\n",
       "      <td>111.0000</td>\n",
       "      <td>94.7</td>\n",
       "      <td>104.357143</td>\n",
       "      <td>89.000000</td>\n",
       "      <td>97.384615</td>\n",
       "      <td>93.4</td>\n",
       "      <td>101.272727</td>\n",
       "      <td>96.363636</td>\n",
       "      <td>87.000000</td>\n",
       "    </tr>\n",
       "    <tr>\n",
       "      <th>2014</th>\n",
       "      <td>102.818182</td>\n",
       "      <td>93.0000</td>\n",
       "      <td>94.7</td>\n",
       "      <td>107.000000</td>\n",
       "      <td>86.000000</td>\n",
       "      <td>97.384615</td>\n",
       "      <td>93.4</td>\n",
       "      <td>101.272727</td>\n",
       "      <td>96.363636</td>\n",
       "      <td>102.000000</td>\n",
       "    </tr>\n",
       "    <tr>\n",
       "      <th>2015</th>\n",
       "      <td>102.818182</td>\n",
       "      <td>82.0000</td>\n",
       "      <td>93.0</td>\n",
       "      <td>104.357143</td>\n",
       "      <td>86.000000</td>\n",
       "      <td>97.000000</td>\n",
       "      <td>93.4</td>\n",
       "      <td>101.272727</td>\n",
       "      <td>96.363636</td>\n",
       "      <td>96.909091</td>\n",
       "    </tr>\n",
       "    <tr>\n",
       "      <th>2016</th>\n",
       "      <td>102.818182</td>\n",
       "      <td>83.0000</td>\n",
       "      <td>94.7</td>\n",
       "      <td>104.357143</td>\n",
       "      <td>102.133333</td>\n",
       "      <td>88.000000</td>\n",
       "      <td>93.4</td>\n",
       "      <td>101.272727</td>\n",
       "      <td>96.363636</td>\n",
       "      <td>96.909091</td>\n",
       "    </tr>\n",
       "  </tbody>\n",
       "</table>\n",
       "</div>"
      ],
      "text/plain": [
       "City       Burbank  Calexico  El Paso  Long Beach  Los Angeles    New York  \\\n",
       "Yearly                                                                       \n",
       "2000    113.000000  118.0000     99.0  108.000000   111.000000  101.000000   \n",
       "2001    129.000000  108.0000    101.0  105.000000   112.000000  102.000000   \n",
       "2002    131.000000  108.0000    111.0  106.000000   112.000000  102.000000   \n",
       "2003    108.000000  111.0000    100.0  107.000000   113.000000  105.000000   \n",
       "2004    105.000000  102.0000     81.0  105.000000   112.000000  109.000000   \n",
       "2005     88.000000  107.0000     82.0  108.000000   106.000000   91.000000   \n",
       "2006    101.000000  101.0000    103.0  101.000000   103.000000   91.000000   \n",
       "2007     86.000000  102.0000     89.0  102.000000   102.000000  101.000000   \n",
       "2008    102.000000  110.0000     88.0  106.000000   105.000000   82.000000   \n",
       "2009     87.000000  101.0000     94.7  103.000000   104.000000   95.000000   \n",
       "2010     81.000000  102.0625     94.7  104.000000    88.000000  102.000000   \n",
       "2011    102.818182  106.0000     94.7  102.000000   103.000000   97.384615   \n",
       "2012    102.818182   90.0000     94.7   97.000000   102.133333   97.384615   \n",
       "2013    102.818182  111.0000     94.7  104.357143    89.000000   97.384615   \n",
       "2014    102.818182   93.0000     94.7  107.000000    86.000000   97.384615   \n",
       "2015    102.818182   82.0000     93.0  104.357143    86.000000   97.000000   \n",
       "2016    102.818182   83.0000     94.7  104.357143   102.133333   88.000000   \n",
       "\n",
       "City    Philadelphia   San Diego  Washington       Welby  \n",
       "Yearly                                                    \n",
       "2000            95.0  104.000000  109.000000  109.000000  \n",
       "2001            87.0  110.000000   88.000000  102.000000  \n",
       "2002            85.0  106.000000  101.000000   96.909091  \n",
       "2003           100.0  110.000000  101.000000  108.000000  \n",
       "2004           101.0  106.000000  104.000000  103.000000  \n",
       "2005            85.0  103.000000  104.000000   96.000000  \n",
       "2006           102.0   97.000000  104.000000   89.000000  \n",
       "2007            87.0  101.000000   81.000000  103.000000  \n",
       "2008            93.4  105.000000  101.000000   84.000000  \n",
       "2009            93.4   90.000000   82.000000   83.000000  \n",
       "2010           106.0   82.000000   85.000000   96.909091  \n",
       "2011            86.0  101.272727   96.363636   96.909091  \n",
       "2012            93.4  101.272727   96.363636   96.909091  \n",
       "2013            93.4  101.272727   96.363636   87.000000  \n",
       "2014            93.4  101.272727   96.363636  102.000000  \n",
       "2015            93.4  101.272727   96.363636   96.909091  \n",
       "2016            93.4  101.272727   96.363636   96.909091  "
      ]
     },
     "execution_count": 20,
     "metadata": {},
     "output_type": "execute_result"
    }
   ],
   "source": [
    "table\n",
    "table.astype('float64')"
   ]
  },
  {
   "cell_type": "code",
   "execution_count": 21,
   "metadata": {
    "collapsed": true
   },
   "outputs": [],
   "source": [
    "table.to_csv(\"Polluted_cities_NO2AQI.csv\")"
   ]
  },
  {
   "cell_type": "code",
   "execution_count": 22,
   "metadata": {},
   "outputs": [
    {
     "data": {
      "text/plain": [
       "DataFrame[_c0: string, State Code: string, County Code: string, Site Num: string, Address: string, State: string, County: string, City: string, Date Local: string, NO2 Units: string, NO2 Mean: string, NO2 1st Max Value: string, NO2 1st Max Hour: string, NO2 AQI: string, O3 Units: string, O3 Mean: string, O3 1st Max Value: string, O3 1st Max Hour: string, O3 AQI: double, SO2 Units: string, SO2 Mean: string, SO2 1st Max Value: string, SO2 1st Max Hour: string, SO2 AQI: double, CO Units: string, CO Mean: string, CO 1st Max Value: string, CO 1st Max Hour: string, CO AQI: double, Date: date, N02AQI: double]"
      ]
     },
     "execution_count": 22,
     "metadata": {},
     "output_type": "execute_result"
    }
   ],
   "source": [
    "df_new "
   ]
  },
  {
   "cell_type": "markdown",
   "metadata": {},
   "source": [
    "<h3> <font color='green'> Linking the Pollution Dataset with the Land Temperature Data set.</font> </h3>"
   ]
  },
  {
   "cell_type": "code",
   "execution_count": 23,
   "metadata": {
    "collapsed": true
   },
   "outputs": [],
   "source": [
    "sc =SparkContext.getOrCreate()\n",
    "sqlContext = SQLContext(sc)\n",
    "df = sqlContext.read.csv(\"GlobalLandTemperaturesByCity.csv\", header=True)\n",
    "# df.printSchema()\n"
   ]
  },
  {
   "cell_type": "code",
   "execution_count": 24,
   "metadata": {},
   "outputs": [
    {
     "data": {
      "text/plain": [
       "DataFrame[summary: string, dt: string, AverageTemperature: string, AverageTemperatureUncertainty: string, City: string, Country: string, Latitude: string, Longitude: string]"
      ]
     },
     "execution_count": 24,
     "metadata": {},
     "output_type": "execute_result"
    }
   ],
   "source": [
    "df.describe()"
   ]
  },
  {
   "cell_type": "code",
   "execution_count": 25,
   "metadata": {
    "collapsed": true
   },
   "outputs": [],
   "source": [
    "# converting the date from string to DateTime format using UDF\n",
    "func =  udf (lambda x: datetime.strptime(x, '%Y-%m-%d'), DateType())\n",
    "df = df.withColumn('Dt', func(col('dt')))\n",
    "df.registerTempTable(\"City_Data\")"
   ]
  },
  {
   "cell_type": "code",
   "execution_count": 26,
   "metadata": {},
   "outputs": [
    {
     "name": "stdout",
     "output_type": "stream",
     "text": [
      "+----------+------------------+-----------------------------+-----+-------+--------+---------+\n",
      "|        Dt|AverageTemperature|AverageTemperatureUncertainty| City|Country|Latitude|Longitude|\n",
      "+----------+------------------+-----------------------------+-----+-------+--------+---------+\n",
      "|1743-11-01|             6.068|           1.7369999999999999|Århus|Denmark|  57.05N|   10.33E|\n",
      "|1743-12-01|              null|                         null|Århus|Denmark|  57.05N|   10.33E|\n",
      "|1744-01-01|              null|                         null|Århus|Denmark|  57.05N|   10.33E|\n",
      "|1744-02-01|              null|                         null|Århus|Denmark|  57.05N|   10.33E|\n",
      "|1744-03-01|              null|                         null|Århus|Denmark|  57.05N|   10.33E|\n",
      "|1744-04-01|5.7879999999999985|           3.6239999999999997|Århus|Denmark|  57.05N|   10.33E|\n",
      "|1744-05-01|            10.644|           1.2830000000000001|Århus|Denmark|  57.05N|   10.33E|\n",
      "|1744-06-01|14.050999999999998|                        1.347|Århus|Denmark|  57.05N|   10.33E|\n",
      "|1744-07-01|            16.082|                        1.396|Århus|Denmark|  57.05N|   10.33E|\n",
      "|1744-08-01|              null|                         null|Århus|Denmark|  57.05N|   10.33E|\n",
      "+----------+------------------+-----------------------------+-----+-------+--------+---------+\n",
      "only showing top 10 rows\n",
      "\n"
     ]
    }
   ],
   "source": [
    "df.show(10)"
   ]
  },
  {
   "cell_type": "code",
   "execution_count": 28,
   "metadata": {
    "collapsed": true
   },
   "outputs": [],
   "source": [
    "table34=sqlContext.sql(\"SELECT  City, MAX(`N02AQI`) as Max_NO2_AQI , MAX(`SO2 AQI`) as Max_SO2_AQI, MAX(`CO AQI`) as Max_CO_AQI, MAX(`O3 AQI`) as Max_O3_AQI , first(Date) AS Year FROM Pollution_Data  GROUP BY YEAR(Date) , City ORDER BY YEAR(Date), City\")\n",
    "table34.registerTempTable(\"Polls\")"
   ]
  },
  {
   "cell_type": "markdown",
   "metadata": {},
   "source": [
    "<h3> Each city has yearly max pollutant values. </h3>"
   ]
  },
  {
   "cell_type": "code",
   "execution_count": 29,
   "metadata": {},
   "outputs": [
    {
     "name": "stdout",
     "output_type": "stream",
     "text": [
      "+-------+-----------+-----------+----------+----------+----------+\n",
      "|   City|Max_NO2_AQI|Max_SO2_AQI|Max_CO_AQI|Max_O3_AQI|      Year|\n",
      "+-------+-----------+-----------+----------+----------+----------+\n",
      "|Burbank|      113.0|       14.0|      68.0|     202.0|2000-01-01|\n",
      "|Burbank|      129.0|       19.0|      56.0|     172.0|2001-01-01|\n",
      "|Burbank|      131.0|       19.0|      51.0|     150.0|2002-01-01|\n",
      "|Burbank|      108.0|       19.0|      51.0|     177.0|2003-01-01|\n",
      "|Burbank|      105.0|       34.0|      39.0|     172.0|2004-01-14|\n",
      "|Burbank|       88.0|       19.0|      39.0|     182.0|2005-01-01|\n",
      "|Burbank|      101.0|       13.0|      39.0|     206.0|2006-01-01|\n",
      "|Burbank|       86.0|       11.0|      32.0|     151.0|2007-01-01|\n",
      "|Burbank|      102.0|       10.0|      28.0|     185.0|2008-01-01|\n",
      "|Burbank|       87.0|       19.0|      33.0|     151.0|2009-01-01|\n",
      "|Burbank|       81.0|       20.0|      26.0|     122.0|2010-01-01|\n",
      "|Burbank|       65.0|        3.0|      27.0|     122.0|2011-01-01|\n",
      "|Burbank|       78.0|        4.0|      27.0|     132.0|2012-01-01|\n",
      "|Burbank|       70.0|       16.0|      27.0|     143.0|2013-01-01|\n",
      "|Burbank|       71.0|        6.0|      34.0|     129.0|2014-01-01|\n",
      "+-------+-----------+-----------+----------+----------+----------+\n",
      "\n"
     ]
    }
   ],
   "source": [
    "sqlContext.sql(\"SELECT * FROM Polls where City=='Burbank'\").show(20)"
   ]
  },
  {
   "cell_type": "markdown",
   "metadata": {},
   "source": [
    "<h3> Calculating the average yearly temperature for each city. </h3>"
   ]
  },
  {
   "cell_type": "code",
   "execution_count": 30,
   "metadata": {},
   "outputs": [
    {
     "name": "stdout",
     "output_type": "stream",
     "text": [
      "+--------+---------+------------------+\n",
      "|year(Dt)|     City|   Yearly_Avg_Temp|\n",
      "+--------+---------+------------------+\n",
      "|    1767|    Århus| 6.946416666666668|\n",
      "|    1781|    Århus| 8.528916666666667|\n",
      "|    1766|    Çorlu|          13.39575|\n",
      "|    1868|    Çorlu|           13.0665|\n",
      "|    1938|  Öskemen|1.3139999999999992|\n",
      "|    1988|  Öskemen|2.1085000000000007|\n",
      "|    1994| A Coruña|13.764333333333335|\n",
      "|    1840|   Aachen|7.8524166666666675|\n",
      "|    1840|  Aalborg| 6.725416666666667|\n",
      "|    1863|  Aalborg| 8.568416666666666|\n",
      "|    1880|      Aba|25.996166666666667|\n",
      "|    1888|      Aba|25.647000000000002|\n",
      "|    1900|      Aba|26.418833333333335|\n",
      "|    1917|      Aba| 26.94966666666667|\n",
      "|    1932|      Aba|26.749749999999995|\n",
      "|    1914|Abakaliki|26.909999999999997|\n",
      "|    1838|   Abakan|-1.885833333333333|\n",
      "|    1914|   Abakan|0.2978333333333338|\n",
      "|    1979|   Abakan|0.6380833333333328|\n",
      "|    1860| Aberdeen| 6.903583333333333|\n",
      "+--------+---------+------------------+\n",
      "only showing top 20 rows\n",
      "\n"
     ]
    }
   ],
   "source": [
    "sqlContext.sql(\" SELECT YEAR(Dt),City, AVG(AverageTemperature) AS Yearly_Avg_Temp FROM City_Data GROUP BY YEAR(Dt), City\").show()"
   ]
  },
  {
   "cell_type": "code",
   "execution_count": 31,
   "metadata": {
    "collapsed": true
   },
   "outputs": [],
   "source": [
    "table123=sqlContext.sql(\" SELECT YEAR(Dt) as Years,City, AVG(AverageTemperature) AS Yearly_Avg_Temp FROM City_Data GROUP BY YEAR(Dt), City\")\n",
    "table123.registerTempTable(\"City_Temp\")"
   ]
  },
  {
   "cell_type": "code",
   "execution_count": 32,
   "metadata": {},
   "outputs": [
    {
     "name": "stdout",
     "output_type": "stream",
     "text": [
      "+-------------+----------------+----------------+----------+----------+----------+\n",
      "|         City|max(Max_NO2_AQI)|max(Max_SO2_AQI)|Max_CO_AQI|Max_O3_AQI|      Year|\n",
      "+-------------+----------------+----------------+----------+----------+----------+\n",
      "|  Baton Rouge|            94.0|            99.0|      48.0|     187.0|2000-01-01|\n",
      "|      Burbank|           113.0|            14.0|      68.0|     202.0|2000-01-01|\n",
      "|  Chula Vista|            70.0|            62.0|      35.0|     104.0|2000-01-01|\n",
      "|      Concord|            72.0|            29.0|      31.0|     147.0|2000-01-01|\n",
      "|   Costa Mesa|           102.0|            29.0|      69.0|     127.0|2000-01-01|\n",
      "|       Dallas|            97.0|            19.0|      25.0|     177.0|2000-01-01|\n",
      "|      Houston|           101.0|           172.0|      42.0|     203.0|2000-01-01|\n",
      "|  Kansas City|            74.0|           101.0|      57.0|     132.0|2000-01-01|\n",
      "|   Long Beach|           108.0|            65.0|      63.0|     114.0|2000-01-01|\n",
      "| Philadelphia|            95.0|            89.0|      51.0|     140.0|2000-01-01|\n",
      "|      Phoenix|           105.0|            41.0|      59.0|     132.0|2000-01-01|\n",
      "|    San Diego|           104.0|            79.0|      65.0|     109.0|2000-01-01|\n",
      "|San Francisco|            72.0|            27.0|      36.0|      36.0|2000-01-01|\n",
      "|    San Pablo|            64.0|            39.0|      22.0|      74.0|2000-01-01|\n",
      "|   Scottsdale|           132.0|            31.0|      38.0|     106.0|2000-01-01|\n",
      "|       Tucson|            73.0|            27.0|      31.0|     109.0|2000-01-01|\n",
      "|      Vallejo|            62.0|            24.0|      57.0|      47.0|2000-01-01|\n",
      "|   Washington|           109.0|           104.0|      58.0|     164.0|2000-01-01|\n",
      "|      Chicago|            97.0|           102.0|      26.0|      42.0|2000-01-06|\n",
      "|      El Paso|            99.0|            50.0|      49.0|     154.0|2000-01-06|\n",
      "|    Henderson|            71.0|           136.0|      17.0|     122.0|2000-02-29|\n",
      "|  Los Angeles|           111.0|           100.0|      66.0|     169.0|2000-03-01|\n",
      "|   Louisville|            58.0|           128.0|      20.0|     129.0|2000-03-21|\n",
      "|   Alexandria|            74.0|           109.0|      25.0|     150.0|2000-03-31|\n",
      "|      Bristol|            64.0|            82.0|      19.0|     207.0|2000-03-31|\n",
      "|    Charleroi|            43.0|           110.0|      11.0|     169.0|2000-03-31|\n",
      "|    Charlotte|            74.0|            92.0|      42.0|     205.0|2000-03-31|\n",
      "|      Detroit|            93.0|           134.0|      51.0|     114.0|2000-03-31|\n",
      "|    Lancaster|            55.0|            79.0|      19.0|     177.0|2000-03-31|\n",
      "|   Pittsburgh|            74.0|           117.0|      18.0|     169.0|2000-03-31|\n",
      "|      Reading|            57.0|           135.0|      22.0|     172.0|2000-03-31|\n",
      "|         York|            63.0|           104.0|      22.0|     177.0|2000-03-31|\n",
      "|     New York|           101.0|           105.0|      55.0|     201.0|2000-05-05|\n",
      "|  Bakersfield|            88.0|            17.0|      43.0|      40.0|2000-11-01|\n",
      "|  Bakersfield|           104.0|            43.0|      39.0|      80.0|2001-01-01|\n",
      "|  Baton Rouge|            73.0|           111.0|      62.0|     150.0|2001-01-01|\n",
      "|      Burbank|           129.0|            19.0|      56.0|     172.0|2001-01-01|\n",
      "|  Chula Vista|            69.0|            67.0|      53.0|     109.0|2001-01-01|\n",
      "|      Concord|            63.0|            33.0|      31.0|     129.0|2001-01-01|\n",
      "|   Costa Mesa|            81.0|            19.0|      52.0|      93.0|2001-01-01|\n",
      "|       Dallas|            72.0|            21.0|      28.0|     192.0|2001-01-01|\n",
      "|      El Paso|           101.0|            33.0|      59.0|     137.0|2001-01-01|\n",
      "|      Houston|           106.0|           135.0|      28.0|     204.0|2001-01-01|\n",
      "|  Kansas City|            71.0|            79.0|      47.0|     119.0|2001-01-01|\n",
      "|   Long Beach|           105.0|            65.0|      53.0|      84.0|2001-01-01|\n",
      "|        Miami|            44.0|            70.0|       3.0|     127.0|2001-01-01|\n",
      "|     New York|           102.0|           105.0|      42.0|     166.0|2001-01-01|\n",
      "| Philadelphia|            87.0|            72.0|      49.0|     106.0|2001-01-01|\n",
      "|      Phoenix|            94.0|            26.0|      49.0|     104.0|2001-01-01|\n",
      "|    San Diego|           110.0|            81.0|      55.0|      97.0|2001-01-01|\n",
      "|San Francisco|            71.0|            36.0|      38.0|      46.0|2001-01-01|\n",
      "|    San Pablo|            58.0|            19.0|      16.0|     100.0|2001-01-01|\n",
      "|   Scottsdale|            76.0|            13.0|      36.0|      77.0|2001-01-01|\n",
      "|       Tucson|            57.0|            14.0|      22.0|     100.0|2001-01-01|\n",
      "|      Vallejo|            54.0|            23.0|      47.0|      80.0|2001-01-01|\n",
      "|   Washington|            88.0|           122.0|      54.0|     164.0|2001-01-01|\n",
      "|    Henderson|            70.0|           126.0|      15.0|     104.0|2001-02-28|\n",
      "|   Louisville|            57.0|           137.0|      18.0|     127.0|2001-02-28|\n",
      "|  Los Angeles|           112.0|            36.0|      62.0|     159.0|2001-03-03|\n",
      "|      Bristol|            71.0|            51.0|      23.0|     202.0|2001-03-31|\n",
      "|    Charleroi|            42.0|           122.0|       5.0|     137.0|2001-03-31|\n",
      "|    Charlotte|            67.0|           132.0|      27.0|     177.0|2001-03-31|\n",
      "|      Detroit|            72.0|           161.0|      28.0|     142.0|2001-03-31|\n",
      "|    Lancaster|            50.0|            54.0|      16.0|     174.0|2001-03-31|\n",
      "|   Pittsburgh|           102.0|           109.0|      23.0|     172.0|2001-03-31|\n",
      "|      Reading|            58.0|           125.0|      16.0|     177.0|2001-03-31|\n",
      "|         York|           117.0|            66.0|      18.0|     145.0|2001-03-31|\n",
      "|       Boston|            72.0|            62.0|      35.0|     145.0|2001-04-01|\n",
      "|       Newark|           101.0|           141.0|      34.0|      67.0|2001-08-16|\n",
      "|      Oakland|            60.0|            11.0|      36.0|      29.0|2001-12-05|\n",
      "|  Baton Rouge|            71.0|           109.0|      55.0|     169.0|2002-01-01|\n",
      "|       Boston|            78.0|            56.0|      31.0|     142.0|2002-01-01|\n",
      "|      Burbank|           131.0|            19.0|      51.0|     150.0|2002-01-01|\n",
      "|  Chula Vista|            93.0|            61.0|      30.0|      93.0|2002-01-01|\n",
      "|      Concord|            61.0|            41.0|      26.0|     135.0|2002-01-01|\n",
      "|   Costa Mesa|           102.0|            39.0|      49.0|      84.0|2002-01-01|\n",
      "|      El Paso|           111.0|            47.0|      42.0|     164.0|2002-01-01|\n",
      "|  Kansas City|            68.0|            66.0|      32.0|     127.0|2002-01-01|\n",
      "|   Long Beach|           106.0|            43.0|      52.0|      64.0|2002-01-01|\n",
      "|  Los Angeles|           112.0|            23.0|      61.0|     109.0|2002-01-01|\n",
      "|     New York|           102.0|           176.0|      33.0|     174.0|2002-01-01|\n",
      "|       Newark|           101.0|           105.0|      36.0|     161.0|2002-01-01|\n",
      "|      Oakland|            79.0|            29.0|      57.0|      47.0|2002-01-01|\n",
      "| Philadelphia|            85.0|            85.0|      39.0|     122.0|2002-01-01|\n",
      "|      Phoenix|            86.0|            30.0|      50.0|     122.0|2002-01-01|\n",
      "|    San Diego|           106.0|            40.0|      53.0|     129.0|2002-01-01|\n",
      "|San Francisco|            73.0|            72.0|      30.0|      42.0|2002-01-01|\n",
      "|    San Pablo|            51.0|            21.0|      20.0|      45.0|2002-01-01|\n",
      "|   Scottsdale|            64.0|            19.0|      34.0|      67.0|2002-01-01|\n",
      "|       Tucson|            61.0|            39.0|      23.0|     124.0|2002-01-01|\n",
      "|      Vallejo|            48.0|            24.0|      44.0|      87.0|2002-01-01|\n",
      "|   Washington|           101.0|            96.0|      55.0|     206.0|2002-01-01|\n",
      "|       Dallas|            77.0|            27.0|      30.0|     202.0|2002-01-10|\n",
      "|   Louisville|            40.0|           120.0|      19.0|     151.0|2002-02-28|\n",
      "|        Miami|            38.0|            21.0|       6.0|     109.0|2002-02-28|\n",
      "|      Bristol|            54.0|            80.0|      10.0|     204.0|2002-03-31|\n",
      "|    Charleroi|            55.0|           105.0|       8.0|     182.0|2002-03-31|\n",
      "|    Charlotte|            68.0|            92.0|      18.0|     182.0|2002-03-31|\n",
      "|      Detroit|           128.0|           115.0|      26.0|     156.0|2002-03-31|\n",
      "| Grand Rapids|            97.0|           105.0|      18.0|     154.0|2002-03-31|\n",
      "+-------------+----------------+----------------+----------+----------+----------+\n",
      "only showing top 100 rows\n",
      "\n"
     ]
    }
   ],
   "source": [
    "sqlContext.sql(\"SELECT Polls.City, Max(Polls.Max_NO2_AQI) ,Max(Polls.Max_SO2_AQI),Polls.Max_CO_AQI,Polls.Max_O3_AQI, Polls.Year FROM Polls JOIN City_Temp ON YEAR(Polls.Year)==City_Temp.Years AND Polls.City==City_Temp.City Group by City_Temp.Years, Polls.City, Polls.Max_NO2_AQI, Polls.Max_SO2_AQI, Polls.Max_CO_AQI,Polls.Max_O3_AQI, Polls.Year ORDER BY Polls.Year, Polls.City \").show(100)"
   ]
  },
  {
   "cell_type": "code",
   "execution_count": 33,
   "metadata": {
    "collapsed": true
   },
   "outputs": [],
   "source": [
    "temp_pollution_yearly=sqlContext.sql(\"SELECT Polls.City, Max(Polls.Max_NO2_AQI) ,Max(Polls.Max_SO2_AQI),Polls.Max_CO_AQI,Polls.Max_O3_AQI, Polls.Year FROM Polls JOIN City_Temp ON YEAR(Polls.Year)==City_Temp.Years AND Polls.City==City_Temp.City Group by City_Temp.Years, Polls.City, Polls.Max_NO2_AQI, Polls.Max_SO2_AQI, Polls.Max_CO_AQI,Polls.Max_O3_AQI, Polls.Year ORDER BY Polls.Year, Polls.City \")\n",
    "temp_pollution_yearly.toPandas().to_csv(\"temp_pollution.csv\")"
   ]
  },
  {
   "cell_type": "markdown",
   "metadata": {},
   "source": [
    "<h3> <font color='blue'><p>Joining the two tables - Global Land Temperature Data set, Pollution Data Set.</p>\n",
    "<p> We want the joined table to display all the pollution levels caused by different air pollutants vs their temperature for each city. </p> </font></h3>"
   ]
  },
  {
   "cell_type": "code",
   "execution_count": 34,
   "metadata": {
    "collapsed": true
   },
   "outputs": [],
   "source": [
    "temp_pollution_yearly=sqlContext.sql(\"SELECT Polls.City, City_Temp.Yearly_Avg_Temp , Max(Polls.Max_NO2_AQI) AS max_NO2 ,Max(Polls.Max_SO2_AQI) AS MAX_SO2,Polls.Max_CO_AQI AS MAX_CO,Polls.Max_O3_AQI as MAX_03, Polls.Year FROM Polls JOIN City_Temp ON YEAR(Polls.Year)==City_Temp.Years AND Polls.City==City_Temp.City Group by City_Temp.Years, Polls.City, Polls.Max_NO2_AQI, Polls.Max_SO2_AQI, Polls.Max_CO_AQI,Polls.Max_O3_AQI, Polls.Year,City_Temp.Yearly_Avg_Temp ORDER BY Polls.Year, Polls.City \")\n",
    "temp_pollution_yearly.toPandas().to_csv(\"temperature_pollution_Rerun.csv\")"
   ]
  },
  {
   "cell_type": "code",
   "execution_count": 35,
   "metadata": {
    "collapsed": true
   },
   "outputs": [],
   "source": [
    "temp_pollution_yearly.registerTempTable(\"Temperature_Pollution_Dataset\")"
   ]
  },
  {
   "cell_type": "code",
   "execution_count": 297,
   "metadata": {},
   "outputs": [
    {
     "name": "stdout",
     "output_type": "stream",
     "text": [
      "+-------------+------------------+-------+-------+------+------+----------+\n",
      "|         City|   Yearly_Avg_Temp|max_NO2|MAX_SO2|MAX_CO|MAX_03|      Year|\n",
      "+-------------+------------------+-------+-------+------+------+----------+\n",
      "|    Charleroi|            11.368|   43.0|  110.0|  11.0| 169.0|2000-03-31|\n",
      "|    Lancaster|16.643333333333334|   55.0|   79.0|  19.0| 177.0|2000-03-31|\n",
      "|      Reading|11.226416666666667|   57.0|  135.0|  22.0| 172.0|2000-03-31|\n",
      "|   Louisville|13.499749999999999|   58.0|  128.0|  20.0| 129.0|2000-03-21|\n",
      "|      Vallejo|15.022000000000004|   62.0|   24.0|  57.0|  47.0|2000-01-01|\n",
      "|         York| 9.526916666666667|   63.0|  104.0|  22.0| 177.0|2000-03-31|\n",
      "|    San Pablo|26.966749999999994|   64.0|   39.0|  22.0|  74.0|2000-01-01|\n",
      "|      Bristol| 9.970083333333335|   64.0|   82.0|  19.0| 207.0|2000-03-31|\n",
      "|  Chula Vista|16.900083333333335|   70.0|   62.0|  35.0| 104.0|2000-01-01|\n",
      "|    Henderson|            18.509|   71.0|  136.0|  17.0| 122.0|2000-02-29|\n",
      "|San Francisco|15.022000000000004|   72.0|   27.0|  36.0|  36.0|2000-01-01|\n",
      "|      Concord|15.022000000000004|   72.0|   29.0|  31.0| 147.0|2000-01-01|\n",
      "|       Tucson|          18.66575|   73.0|   27.0|  31.0| 109.0|2000-01-01|\n",
      "|    Charlotte|16.428583333333332|   74.0|   92.0|  42.0| 205.0|2000-03-31|\n",
      "|  Kansas City|12.726750000000003|   74.0|  101.0|  57.0| 132.0|2000-01-01|\n",
      "|   Alexandria|         16.511125|   74.0|  109.0|  25.0| 150.0|2000-03-31|\n",
      "|   Pittsburgh|10.225166666666665|   74.0|  117.0|  18.0| 169.0|2000-03-31|\n",
      "|  Bakersfield|16.504083333333337|   88.0|   17.0|  43.0|  40.0|2000-11-01|\n",
      "|      Detroit| 9.344166666666666|   93.0|  134.0|  51.0| 114.0|2000-03-31|\n",
      "|  Baton Rouge|21.092500000000005|   94.0|   99.0|  48.0| 187.0|2000-01-01|\n",
      "| Philadelphia|12.311666666666667|   95.0|   89.0|  51.0| 140.0|2000-01-01|\n",
      "|       Dallas| 18.89666666666667|   97.0|   19.0|  25.0| 177.0|2000-01-01|\n",
      "|      Chicago|11.089666666666666|   97.0|  102.0|  26.0|  42.0|2000-01-06|\n",
      "|      El Paso| 16.88958333333333|   99.0|   50.0|  49.0| 154.0|2000-01-06|\n",
      "|     New York| 9.969083333333334|  101.0|  105.0|  55.0| 201.0|2000-05-05|\n",
      "|      Houston|21.342000000000002|  101.0|  172.0|  42.0| 203.0|2000-01-01|\n",
      "|   Costa Mesa|16.900083333333335|  102.0|   29.0|  69.0| 127.0|2000-01-01|\n",
      "|    San Diego|16.900083333333335|  104.0|   79.0|  65.0| 109.0|2000-01-01|\n",
      "|      Phoenix|22.003250000000005|  105.0|   41.0|  59.0| 132.0|2000-01-01|\n",
      "|   Long Beach|16.900083333333335|  108.0|   65.0|  63.0| 114.0|2000-01-01|\n",
      "|   Washington|12.277750000000003|  109.0|  104.0|  58.0| 164.0|2000-01-01|\n",
      "|  Los Angeles|14.816250000000004|  111.0|  100.0|  66.0| 169.0|2000-03-01|\n",
      "|      Burbank|16.643333333333334|  113.0|   14.0|  68.0| 202.0|2000-01-01|\n",
      "|   Scottsdale|22.003250000000005|  132.0|   31.0|  38.0| 106.0|2000-01-01|\n",
      "|    Charleroi|10.938249999999998|   42.0|  122.0|   5.0| 137.0|2001-03-31|\n",
      "|        Miami| 23.70183333333333|   44.0|   70.0|   3.0| 127.0|2001-01-01|\n",
      "|    Lancaster|          16.46625|   50.0|   54.0|  16.0| 174.0|2001-03-31|\n",
      "|      Vallejo| 15.24691666666667|   54.0|   23.0|  47.0|  80.0|2001-01-01|\n",
      "|       Tucson|18.269916666666663|   57.0|   14.0|  22.0| 100.0|2001-01-01|\n",
      "|   Louisville|14.103999999999997|   57.0|  137.0|  18.0| 127.0|2001-02-28|\n",
      "+-------------+------------------+-------+-------+------+------+----------+\n",
      "only showing top 40 rows\n",
      "\n"
     ]
    }
   ],
   "source": [
    "sqlContext.sql(\"SELECT * FROM Temperature_Pollution_Dataset ORDER BY Year(Year),max_NO2,MAX_SO2,MAX_CO,MAX_03  \").show(40)"
   ]
  },
  {
   "cell_type": "code",
   "execution_count": 299,
   "metadata": {
    "collapsed": true
   },
   "outputs": [],
   "source": [
    "temperature_table=sqlContext.sql(\"SELECT * FROM Temperature_Pollution_Dataset ORDER BY Year(Year),max_NO2,MAX_SO2,MAX_CO,MAX_03  \")\n",
    "temperature_table.toPandas().to_csv(\"Temperature_Values.csv\")"
   ]
  },
  {
   "cell_type": "markdown",
   "metadata": {},
   "source": [
    "<h3> Using a Decision Tree Model to predict the future temperature values of a city based on the pollution levels. </h3>"
   ]
  },
  {
   "cell_type": "code",
   "execution_count": 38,
   "metadata": {
    "collapsed": true
   },
   "outputs": [],
   "source": [
    "table11 = sqlContext.sql(\"SELECT Yearly_Avg_Temp,max_NO2, MAX_SO2, MAX_CO,MAX_03 FROM Temperature_Pollution_Dataset\")\n",
    "table11.registerTempTable(\"Model_Dataset\")"
   ]
  },
  {
   "cell_type": "code",
   "execution_count": 39,
   "metadata": {
    "collapsed": true
   },
   "outputs": [],
   "source": [
    "table11.toPandas().to_csv(\"Model_Data.csv\")\n"
   ]
  },
  {
   "cell_type": "code",
   "execution_count": 40,
   "metadata": {
    "collapsed": true
   },
   "outputs": [],
   "source": [
    "dataFrame=sc.textFile(\"Model_Data.csv\")\n",
    "header = dataFrame.first()\n",
    "dataFrame = dataFrame.filter(lambda x: x!=header)"
   ]
  },
  {
   "cell_type": "code",
   "execution_count": 41,
   "metadata": {},
   "outputs": [
    {
     "data": {
      "text/plain": [
       "pyspark.rdd.PipelinedRDD"
      ]
     },
     "execution_count": 41,
     "metadata": {},
     "output_type": "execute_result"
    }
   ],
   "source": [
    "type(dataFrame)\n"
   ]
  },
  {
   "cell_type": "code",
   "execution_count": 42,
   "metadata": {},
   "outputs": [
    {
     "data": {
      "text/plain": [
       "pyspark.rdd.RDD"
      ]
     },
     "execution_count": 42,
     "metadata": {},
     "output_type": "execute_result"
    }
   ],
   "source": [
    "dataFrame = sc.parallelize(dataFrame.collect())\n",
    "type(dataFrame)"
   ]
  },
  {
   "cell_type": "code",
   "execution_count": 43,
   "metadata": {},
   "outputs": [
    {
     "data": {
      "text/plain": [
       "PythonRDD[542] at RDD at PythonRDD.scala:48"
      ]
     },
     "execution_count": 43,
     "metadata": {},
     "output_type": "execute_result"
    }
   ],
   "source": [
    "dataFrame=dataFrame.map(lambda line: line.split(','))\n",
    "dataFrame"
   ]
  },
  {
   "cell_type": "code",
   "execution_count": 44,
   "metadata": {},
   "outputs": [
    {
     "data": {
      "text/plain": [
       "[['0', '21.092500000000005', '94.0', '99.0', '48.0', '187.0'],\n",
       " ['1', '16.643333333333334', '113.0', '14.0', '68.0', '202.0'],\n",
       " ['2', '16.900083333333335', '70.0', '62.0', '35.0', '104.0'],\n",
       " ['3', '15.022000000000004', '72.0', '29.0', '31.0', '147.0'],\n",
       " ['4', '16.900083333333335', '102.0', '29.0', '69.0', '127.0'],\n",
       " ['5', '18.89666666666667', '97.0', '19.0', '25.0', '177.0'],\n",
       " ['6', '21.342000000000002', '101.0', '172.0', '42.0', '203.0'],\n",
       " ['7', '12.726750000000003', '74.0', '101.0', '57.0', '132.0'],\n",
       " ['8', '16.900083333333335', '108.0', '65.0', '63.0', '114.0'],\n",
       " ['9', '12.311666666666667', '95.0', '89.0', '51.0', '140.0']]"
      ]
     },
     "execution_count": 44,
     "metadata": {},
     "output_type": "execute_result"
    }
   ],
   "source": [
    "dataFrame.take(10)"
   ]
  },
  {
   "cell_type": "markdown",
   "metadata": {},
   "source": [
    "<h1><font color='red'> Decision Tree Model using MLLIB</font> </h1>\n",
    "<p><b> A decision tree is a flowchart-like structure in which each internal node represents a \"test\" on an attribute (e.g. whether a coin flip comes up heads or tails), each branch represents the outcome of the test, and each leaf node represents a class label (decision taken after computing all attributes). \n",
    "The paths from root to leaf represent classification rules.</p></b>"
   ]
  },
  {
   "cell_type": "code",
   "execution_count": 308,
   "metadata": {},
   "outputs": [
    {
     "name": "stdout",
     "output_type": "stream",
     "text": [
      "Test Mean Squared Error = 16.65643623052192\n",
      "Learned regression tree model:\n",
      "DecisionTreeModel regressor of depth 5 with 59 nodes\n",
      "  If (feature 1 <= 30.0)\n",
      "   If (feature 1 <= 10.0)\n",
      "    If (feature 3 <= 100.0)\n",
      "     If (feature 0 <= 38.0)\n",
      "      Predict: 21.556083333333333\n",
      "     Else (feature 0 > 38.0)\n",
      "      If (feature 1 <= 7.0)\n",
      "       Predict: 10.955869047619046\n",
      "      Else (feature 1 > 7.0)\n",
      "       Predict: 14.403327380952382\n",
      "    Else (feature 3 > 100.0)\n",
      "     If (feature 1 <= 9.0)\n",
      "      If (feature 3 <= 112.0)\n",
      "       Predict: 15.372856481481483\n",
      "      Else (feature 3 > 112.0)\n",
      "       Predict: 17.64037962962963\n",
      "     Else (feature 1 > 9.0)\n",
      "      If (feature 0 <= 38.0)\n",
      "       Predict: 18.695500000000003\n",
      "      Else (feature 0 > 38.0)\n",
      "       Predict: 20.45077777777778\n",
      "   Else (feature 1 > 10.0)\n",
      "    If (feature 2 <= 20.0)\n",
      "     If (feature 3 <= 112.0)\n",
      "      If (feature 2 <= 19.0)\n",
      "       Predict: 21.12206216931217\n",
      "      Else (feature 2 > 19.0)\n",
      "       Predict: 27.01897222222222\n",
      "     Else (feature 3 > 112.0)\n",
      "      If (feature 2 <= 7.0)\n",
      "       Predict: 22.0095\n",
      "      Else (feature 2 > 7.0)\n",
      "       Predict: 15.190347222222222\n",
      "    Else (feature 2 > 20.0)\n",
      "     If (feature 2 <= 23.0)\n",
      "      If (feature 1 <= 27.0)\n",
      "       Predict: 16.286875\n",
      "      Else (feature 1 > 27.0)\n",
      "       Predict: 10.064666666666653\n",
      "     Else (feature 2 > 23.0)\n",
      "      If (feature 0 <= 55.0)\n",
      "       Predict: 15.21513095238095\n",
      "      Else (feature 0 > 55.0)\n",
      "       Predict: 17.757499158249153\n",
      "  Else (feature 1 > 30.0)\n",
      "   If (feature 2 <= 18.0)\n",
      "    If (feature 0 <= 57.0)\n",
      "     If (feature 1 <= 107.0)\n",
      "      If (feature 2 <= 7.0)\n",
      "       Predict: 23.70183333333333\n",
      "      Else (feature 2 > 7.0)\n",
      "       Predict: 14.57955521680217\n",
      "     Else (feature 1 > 107.0)\n",
      "      If (feature 0 <= 54.0)\n",
      "       Predict: 11.303794642857143\n",
      "      Else (feature 0 > 54.0)\n",
      "       Predict: 14.022708333333327\n",
      "    Else (feature 0 > 57.0)\n",
      "     If (feature 1 <= 49.0)\n",
      "      If (feature 3 <= 116.0)\n",
      "       Predict: 8.720555555555555\n",
      "      Else (feature 3 > 116.0)\n",
      "       Predict: 10.968729166666666\n",
      "     Else (feature 1 > 49.0)\n",
      "      If (feature 1 <= 52.0)\n",
      "       Predict: 21.857166666666668\n",
      "      Else (feature 1 > 52.0)\n",
      "       Predict: 11.686128205128202\n",
      "   Else (feature 2 > 18.0)\n",
      "    If (feature 0 <= 51.0)\n",
      "     If (feature 3 <= 43.0)\n",
      "      Predict: 15.051583333333332\n",
      "     Else (feature 3 > 43.0)\n",
      "      If (feature 1 <= 92.0)\n",
      "       Predict: 10.028607142857142\n",
      "      Else (feature 1 > 92.0)\n",
      "       Predict: 14.289416666666668\n",
      "    Else (feature 0 > 51.0)\n",
      "     If (feature 2 <= 53.0)\n",
      "      If (feature 0 <= 71.0)\n",
      "       Predict: 16.12488131313131\n",
      "      Else (feature 0 > 71.0)\n",
      "       Predict: 14.56948568376068\n",
      "     Else (feature 2 > 53.0)\n",
      "      If (feature 1 <= 104.0)\n",
      "       Predict: 16.694398437500002\n",
      "      Else (feature 1 > 104.0)\n",
      "       Predict: 20.869041666666675\n",
      "\n"
     ]
    }
   ],
   "source": [
    "from pyspark.mllib.tree import DecisionTree, DecisionTreeModel\n",
    "from pyspark.mllib.util import MLUtils\n",
    "from pyspark.mllib.regression import LabeledPoint\n",
    "\n",
    "\n",
    "(trainingData, testData) = dataFrame.randomSplit([0.7, 0.3])\n",
    "def parsePoint(line):\n",
    "    values=[x for x in line]\n",
    "    return LabeledPoint(values[1], values[2:])\n",
    "\n",
    "\n",
    "TrainParseData = trainingData.map(parsePoint)\n",
    "TestParseData=testData.map(parsePoint)\n",
    "\n",
    "# Train a DecisionTree model.\n",
    "#  Empty categoricalFeaturesInfo indicates all features are continuous.\n",
    "model = DecisionTree.trainRegressor(TrainParseData, categoricalFeaturesInfo={},impurity='variance', maxDepth=5, maxBins=32)\n",
    "\n",
    "# Evaluate model on test instances and compute test error\n",
    "predictions = model.predict(TestParseData.map(lambda x: x.features))\n",
    "labelsAndPredictions = TestParseData.map(lambda lp: lp.label).zip(predictions)\n",
    "testMSE = labelsAndPredictions.map(lambda lp: (lp[0] - lp[1]) * (lp[0] - lp[1])).sum()/float(TestParseData.count())\n",
    "print('Test Mean Squared Error = ' + str(testMSE))\n",
    "print('Learned regression tree model:')\n",
    "print(model.toDebugString())\n"
   ]
  },
  {
   "cell_type": "code",
   "execution_count": 48,
   "metadata": {
    "collapsed": true
   },
   "outputs": [],
   "source": [
    "test_table=sqlContext.sql(\"SELECT  Max_NO2_AQI,Max_SO2_AQI,Max_CO_AQI, Max_O3_AQI from Polls where YEAR(Year)>2013\")\n",
    "test_table.toPandas().to_csv(\"test_data.csv\")\n"
   ]
  },
  {
   "cell_type": "code",
   "execution_count": 302,
   "metadata": {},
   "outputs": [
    {
     "name": "stdout",
     "output_type": "stream",
     "text": [
      "+----------+-------------+-----------+-----------+----------+----------+\n",
      "|      Year|         City|Max_NO2_AQI|Max_SO2_AQI|Max_CO_AQI|Max_O3_AQI|\n",
      "+----------+-------------+-----------+-----------+----------+----------+\n",
      "|2014-01-01|  Albuquerque|       43.0|       92.0|      15.0|      87.0|\n",
      "|2014-01-01| Arden-Arcade|       41.0|        7.0|      19.0|     122.0|\n",
      "|2014-01-02|       Austin|       34.0|       10.0|       5.0|      97.0|\n",
      "|2014-01-01|  Baton Rouge|       55.0|       54.0|      47.0|     129.0|\n",
      "|2014-01-01|   Beltsville|       40.0|       20.0|      10.0|     101.0|\n",
      "|2014-01-01|Bethel Island|       31.0|       14.0|       8.0|     101.0|\n",
      "|2014-01-01|   Birmingham|       82.0|       97.0|      11.0|      90.0|\n",
      "|2014-05-02|       Blaine|       37.0|       11.0|       8.0|      93.0|\n",
      "|2014-01-01|       Boston|       60.0|       40.0|      13.0|      54.0|\n",
      "|2014-01-01|      Bristol|       50.0|       20.0|      16.0|      84.0|\n",
      "+----------+-------------+-----------+-----------+----------+----------+\n",
      "only showing top 10 rows\n",
      "\n"
     ]
    }
   ],
   "source": [
    "all=sqlContext.sql(\"SELECT  Year,City,Max_NO2_AQI,Max_SO2_AQI,Max_CO_AQI, Max_O3_AQI from Polls where YEAR(Year)>2013\").show(10)"
   ]
  },
  {
   "cell_type": "code",
   "execution_count": 307,
   "metadata": {
    "collapsed": true
   },
   "outputs": [],
   "source": [
    "all_data=sqlContext.sql(\"SELECT  Year,City,Max_NO2_AQI,Max_SO2_AQI,Max_CO_AQI, Max_O3_AQI from Polls where YEAR(Year)>2013\")\n",
    "all_data=all_data.toPandas()"
   ]
  },
  {
   "cell_type": "code",
   "execution_count": 49,
   "metadata": {
    "collapsed": true
   },
   "outputs": [],
   "source": [
    "test_table.registerTempTable(\"Table\")"
   ]
  },
  {
   "cell_type": "code",
   "execution_count": 50,
   "metadata": {
    "collapsed": true
   },
   "outputs": [],
   "source": [
    "Panda_temp_table=test_table.toPandas()"
   ]
  },
  {
   "cell_type": "code",
   "execution_count": 51,
   "metadata": {},
   "outputs": [
    {
     "data": {
      "text/plain": [
       "DataFrame[summary: string, Max_NO2_AQI: string, Max_SO2_AQI: string, Max_CO_AQI: string, Max_O3_AQI: string]"
      ]
     },
     "execution_count": 51,
     "metadata": {},
     "output_type": "execute_result"
    }
   ],
   "source": [
    "test_table.describe()"
   ]
  },
  {
   "cell_type": "code",
   "execution_count": 52,
   "metadata": {},
   "outputs": [
    {
     "data": {
      "text/plain": [
       "pyspark.sql.dataframe.DataFrame"
      ]
     },
     "execution_count": 52,
     "metadata": {},
     "output_type": "execute_result"
    }
   ],
   "source": [
    "type(test_table)"
   ]
  },
  {
   "cell_type": "code",
   "execution_count": 53,
   "metadata": {
    "collapsed": true
   },
   "outputs": [],
   "source": [
    "test_table1=test_table.collect()"
   ]
  },
  {
   "cell_type": "code",
   "execution_count": 54,
   "metadata": {},
   "outputs": [
    {
     "data": {
      "text/plain": [
       "92.0"
      ]
     },
     "execution_count": 54,
     "metadata": {},
     "output_type": "execute_result"
    }
   ],
   "source": [
    "test_table.collect()[0].Max_SO2_AQI"
   ]
  },
  {
   "cell_type": "code",
   "execution_count": 55,
   "metadata": {},
   "outputs": [
    {
     "data": {
      "text/plain": [
       "218"
      ]
     },
     "execution_count": 55,
     "metadata": {},
     "output_type": "execute_result"
    }
   ],
   "source": [
    "len(test_table.collect())"
   ]
  },
  {
   "cell_type": "markdown",
   "metadata": {},
   "source": [
    "<h3><b> Using test data set to predict the values of temperature based on pollution level of each city. </h3></b>"
   ]
  },
  {
   "cell_type": "code",
   "execution_count": 56,
   "metadata": {},
   "outputs": [
    {
     "name": "stdout",
     "output_type": "stream",
     "text": [
      "[13.949487037037038, 15.797569444444443, 19.923519841269844, 11.556602272727275, 26.339145833333333, 19.923519841269844, 11.067762820512817, 19.923519841269844, 13.949487037037038, 18.436983333333334, 18.67566666666667, 17.036499507947113, 18.436983333333334, 14.4626, 11.756817401960785, 18.436983333333334, 11.756817401960785, 11.067762820512817, 13.949487037037038, 19.923519841269844, 17.036499507947113, 13.808333333333332, 26.339145833333333, 12.32964814814815, 17.036499507947113, 10.745023809523806, 17.294455555555558, 18.066970238095237, 12.32964814814815, 13.949487037037038, 15.797569444444443, 17.036499507947113, 12.32964814814815, 13.949487037037038, 10.745023809523806, 12.870636666666666, 17.294455555555558, 18.67566666666667, 14.4626, 14.4626, 9.701924382716049, 13.949487037037038, 13.949487037037038, 11.067762820512817, 15.797569444444443, 17.036499507947113, 17.036499507947113, 11.756817401960785, 18.436983333333334, 18.436983333333334, 17.036499507947113, 18.436983333333334, 11.756817401960785, 17.036499507947113, 17.036499507947113, 19.923519841269844, 18.436983333333334, 17.036499507947113, 13.949487037037038, 12.32964814814815, 14.26758888888889, 18.066970238095237, 15.797569444444443, 14.26758888888889, 18.67566666666667, 18.436983333333334, 13.808333333333332, 18.436983333333334, 14.26758888888889, 26.339145833333333, 13.949487037037038, 15.051583333333326, 18.066970238095237, 17.036499507947113, 26.339145833333333, 17.294455555555558, 14.26758888888889, 19.923519841269844, 11.556602272727275, 12.870636666666666, 18.436983333333334, 12.32964814814815, 20.738208333333333, 15.797569444444443, 17.036499507947113, 11.556602272727275, 18.066970238095237, 15.051583333333326, 11.756817401960785, 18.436983333333334, 15.051583333333326, 17.036499507947113, 18.436983333333334, 14.4626, 13.949487037037038, 12.32964814814815, 11.756817401960785, 13.949487037037038, 15.797569444444443, 9.701924382716049, 18.67566666666667, 18.67566666666667, 18.436983333333334, 18.436983333333334, 12.870636666666666, 14.26758888888889, 17.294455555555558, 18.066970238095237, 12.32964814814815, 13.949487037037038, 10.745023809523806, 17.036499507947113, 11.756817401960785, 11.556602272727275, 10.745023809523806, 15.600605654761905, 17.294455555555558, 18.066970238095237, 14.4626, 14.26758888888889, 18.436983333333334, 13.949487037037038, 11.067762820512817, 13.949487037037038, 10.745023809523806, 12.870636666666666, 18.436983333333334, 12.32964814814815, 18.436983333333334, 18.436983333333334, 17.036499507947113, 11.756817401960785, 26.339145833333333, 15.789712962962959, 17.036499507947113, 18.422666666666668, 17.036499507947113, 17.036499507947113, 14.26758888888889, 18.066970238095237, 18.436983333333334, 14.26758888888889, 18.67566666666667, 18.436983333333334, 18.67566666666667, 18.066970238095237, 15.051583333333326, 15.797569444444443, 13.949487037037038, 10.745023809523806, 18.436983333333334, 18.422666666666668, 14.26758888888889, 15.600605654761905, 14.26758888888889, 19.923519841269844, 18.436983333333334, 17.036499507947113, 18.066970238095237, 10.745023809523806, 9.701924382716049, 10.745023809523806, 18.436983333333334, 15.051583333333326, 14.26758888888889, 11.556602272727275, 10.745023809523806, 13.808333333333332, 14.26758888888889, 10.745023809523806, 15.051583333333326, 9.701924382716049, 14.26758888888889, 10.745023809523806, 14.26758888888889, 18.066970238095237, 14.26758888888889, 18.436983333333334, 14.26758888888889, 10.745023809523806, 10.745023809523806, 11.756817401960785, 17.036499507947113, 19.923519841269844, 18.436983333333334, 10.745023809523806, 13.808333333333332, 19.923519841269844, 10.745023809523806, 18.436983333333334, 14.4626, 26.339145833333333, 14.26758888888889, 18.436983333333334, 10.745023809523806, 14.26758888888889, 18.436983333333334, 12.32964814814815, 13.808333333333332, 12.32964814814815, 10.745023809523806, 10.745023809523806, 10.745023809523806, 10.745023809523806, 12.32964814814815, 14.26758888888889, 10.745023809523806, 14.26758888888889, 18.066970238095237, 18.422666666666668, 14.26758888888889, 10.745023809523806, 19.923519841269844, 15.051583333333326, 18.436983333333334, 18.436983333333334, 10.745023809523806, 18.436983333333334]\n"
     ]
    }
   ],
   "source": [
    "\n",
    "list_predict=[]\n",
    "for i in range(len(test_table.collect())):\n",
    "    list_new=[test_table.collect()[i].Max_NO2_AQI,test_table.collect()[i].Max_SO2_AQI,test_table.collect()[i].Max_CO_AQI,test_table.collect()[i].Max_O3_AQI]\n",
    "    list_predict.append(model.predict(list_new))\n",
    "\n",
    "print(list_predict)\n"
   ]
  },
  {
   "cell_type": "code",
   "execution_count": 309,
   "metadata": {
    "collapsed": true
   },
   "outputs": [],
   "source": [
    "all_data['Temperature_Predicted']=list_predict"
   ]
  },
  {
   "cell_type": "code",
   "execution_count": 310,
   "metadata": {},
   "outputs": [
    {
     "data": {
      "text/html": [
       "<div>\n",
       "<style>\n",
       "    .dataframe thead tr:only-child th {\n",
       "        text-align: right;\n",
       "    }\n",
       "\n",
       "    .dataframe thead th {\n",
       "        text-align: left;\n",
       "    }\n",
       "\n",
       "    .dataframe tbody tr th {\n",
       "        vertical-align: top;\n",
       "    }\n",
       "</style>\n",
       "<table border=\"1\" class=\"dataframe\">\n",
       "  <thead>\n",
       "    <tr style=\"text-align: right;\">\n",
       "      <th></th>\n",
       "      <th>Year</th>\n",
       "      <th>City</th>\n",
       "      <th>Max_NO2_AQI</th>\n",
       "      <th>Max_SO2_AQI</th>\n",
       "      <th>Max_CO_AQI</th>\n",
       "      <th>Max_O3_AQI</th>\n",
       "      <th>Temperature_Predicted</th>\n",
       "    </tr>\n",
       "  </thead>\n",
       "  <tbody>\n",
       "    <tr>\n",
       "      <th>0</th>\n",
       "      <td>2014-01-01</td>\n",
       "      <td>Albuquerque</td>\n",
       "      <td>43.0</td>\n",
       "      <td>92.0</td>\n",
       "      <td>15.0</td>\n",
       "      <td>87.0</td>\n",
       "      <td>13.949487</td>\n",
       "    </tr>\n",
       "    <tr>\n",
       "      <th>1</th>\n",
       "      <td>2014-01-01</td>\n",
       "      <td>Arden-Arcade</td>\n",
       "      <td>41.0</td>\n",
       "      <td>7.0</td>\n",
       "      <td>19.0</td>\n",
       "      <td>122.0</td>\n",
       "      <td>15.797569</td>\n",
       "    </tr>\n",
       "    <tr>\n",
       "      <th>2</th>\n",
       "      <td>2014-01-02</td>\n",
       "      <td>Austin</td>\n",
       "      <td>34.0</td>\n",
       "      <td>10.0</td>\n",
       "      <td>5.0</td>\n",
       "      <td>97.0</td>\n",
       "      <td>19.923520</td>\n",
       "    </tr>\n",
       "    <tr>\n",
       "      <th>3</th>\n",
       "      <td>2014-01-01</td>\n",
       "      <td>Baton Rouge</td>\n",
       "      <td>55.0</td>\n",
       "      <td>54.0</td>\n",
       "      <td>47.0</td>\n",
       "      <td>129.0</td>\n",
       "      <td>11.556602</td>\n",
       "    </tr>\n",
       "    <tr>\n",
       "      <th>4</th>\n",
       "      <td>2014-01-01</td>\n",
       "      <td>Beltsville</td>\n",
       "      <td>40.0</td>\n",
       "      <td>20.0</td>\n",
       "      <td>10.0</td>\n",
       "      <td>101.0</td>\n",
       "      <td>26.339146</td>\n",
       "    </tr>\n",
       "    <tr>\n",
       "      <th>5</th>\n",
       "      <td>2014-01-01</td>\n",
       "      <td>Bethel Island</td>\n",
       "      <td>31.0</td>\n",
       "      <td>14.0</td>\n",
       "      <td>8.0</td>\n",
       "      <td>101.0</td>\n",
       "      <td>19.923520</td>\n",
       "    </tr>\n",
       "    <tr>\n",
       "      <th>6</th>\n",
       "      <td>2014-01-01</td>\n",
       "      <td>Birmingham</td>\n",
       "      <td>82.0</td>\n",
       "      <td>97.0</td>\n",
       "      <td>11.0</td>\n",
       "      <td>90.0</td>\n",
       "      <td>11.067763</td>\n",
       "    </tr>\n",
       "    <tr>\n",
       "      <th>7</th>\n",
       "      <td>2014-05-02</td>\n",
       "      <td>Blaine</td>\n",
       "      <td>37.0</td>\n",
       "      <td>11.0</td>\n",
       "      <td>8.0</td>\n",
       "      <td>93.0</td>\n",
       "      <td>19.923520</td>\n",
       "    </tr>\n",
       "    <tr>\n",
       "      <th>8</th>\n",
       "      <td>2014-01-01</td>\n",
       "      <td>Boston</td>\n",
       "      <td>60.0</td>\n",
       "      <td>40.0</td>\n",
       "      <td>13.0</td>\n",
       "      <td>54.0</td>\n",
       "      <td>13.949487</td>\n",
       "    </tr>\n",
       "    <tr>\n",
       "      <th>9</th>\n",
       "      <td>2014-01-01</td>\n",
       "      <td>Bristol</td>\n",
       "      <td>50.0</td>\n",
       "      <td>20.0</td>\n",
       "      <td>16.0</td>\n",
       "      <td>84.0</td>\n",
       "      <td>18.436983</td>\n",
       "    </tr>\n",
       "    <tr>\n",
       "      <th>10</th>\n",
       "      <td>2014-01-01</td>\n",
       "      <td>Burbank</td>\n",
       "      <td>71.0</td>\n",
       "      <td>6.0</td>\n",
       "      <td>34.0</td>\n",
       "      <td>129.0</td>\n",
       "      <td>18.675667</td>\n",
       "    </tr>\n",
       "    <tr>\n",
       "      <th>11</th>\n",
       "      <td>2014-01-01</td>\n",
       "      <td>Calexico</td>\n",
       "      <td>93.0</td>\n",
       "      <td>16.0</td>\n",
       "      <td>43.0</td>\n",
       "      <td>151.0</td>\n",
       "      <td>17.036500</td>\n",
       "    </tr>\n",
       "    <tr>\n",
       "      <th>12</th>\n",
       "      <td>2014-01-01</td>\n",
       "      <td>Camden</td>\n",
       "      <td>62.0</td>\n",
       "      <td>14.0</td>\n",
       "      <td>17.0</td>\n",
       "      <td>115.0</td>\n",
       "      <td>18.436983</td>\n",
       "    </tr>\n",
       "    <tr>\n",
       "      <th>13</th>\n",
       "      <td>2014-01-01</td>\n",
       "      <td>Capitan</td>\n",
       "      <td>12.0</td>\n",
       "      <td>117.0</td>\n",
       "      <td>5.0</td>\n",
       "      <td>151.0</td>\n",
       "      <td>14.462600</td>\n",
       "    </tr>\n",
       "    <tr>\n",
       "      <th>14</th>\n",
       "      <td>2014-01-01</td>\n",
       "      <td>Charleroi</td>\n",
       "      <td>42.0</td>\n",
       "      <td>82.0</td>\n",
       "      <td>9.0</td>\n",
       "      <td>100.0</td>\n",
       "      <td>11.756817</td>\n",
       "    </tr>\n",
       "    <tr>\n",
       "      <th>15</th>\n",
       "      <td>2014-01-01</td>\n",
       "      <td>Charlotte</td>\n",
       "      <td>48.0</td>\n",
       "      <td>11.0</td>\n",
       "      <td>17.0</td>\n",
       "      <td>105.0</td>\n",
       "      <td>18.436983</td>\n",
       "    </tr>\n",
       "    <tr>\n",
       "      <th>16</th>\n",
       "      <td>2014-01-01</td>\n",
       "      <td>Cincinnati</td>\n",
       "      <td>47.0</td>\n",
       "      <td>122.0</td>\n",
       "      <td>9.0</td>\n",
       "      <td>126.0</td>\n",
       "      <td>11.756817</td>\n",
       "    </tr>\n",
       "    <tr>\n",
       "      <th>17</th>\n",
       "      <td>2014-01-01</td>\n",
       "      <td>Cleveland</td>\n",
       "      <td>64.0</td>\n",
       "      <td>95.0</td>\n",
       "      <td>15.0</td>\n",
       "      <td>97.0</td>\n",
       "      <td>11.067763</td>\n",
       "    </tr>\n",
       "    <tr>\n",
       "      <th>18</th>\n",
       "      <td>2014-01-01</td>\n",
       "      <td>Concord</td>\n",
       "      <td>45.0</td>\n",
       "      <td>41.0</td>\n",
       "      <td>13.0</td>\n",
       "      <td>133.0</td>\n",
       "      <td>13.949487</td>\n",
       "    </tr>\n",
       "    <tr>\n",
       "      <th>19</th>\n",
       "      <td>2014-01-01</td>\n",
       "      <td>Cornwall</td>\n",
       "      <td>37.0</td>\n",
       "      <td>13.0</td>\n",
       "      <td>7.0</td>\n",
       "      <td>129.0</td>\n",
       "      <td>19.923520</td>\n",
       "    </tr>\n",
       "    <tr>\n",
       "      <th>20</th>\n",
       "      <td>2014-01-01</td>\n",
       "      <td>Costa Mesa</td>\n",
       "      <td>57.0</td>\n",
       "      <td>11.0</td>\n",
       "      <td>22.0</td>\n",
       "      <td>129.0</td>\n",
       "      <td>17.036500</td>\n",
       "    </tr>\n",
       "    <tr>\n",
       "      <th>21</th>\n",
       "      <td>2014-01-01</td>\n",
       "      <td>Dallas</td>\n",
       "      <td>54.0</td>\n",
       "      <td>9.0</td>\n",
       "      <td>17.0</td>\n",
       "      <td>100.0</td>\n",
       "      <td>13.808333</td>\n",
       "    </tr>\n",
       "    <tr>\n",
       "      <th>22</th>\n",
       "      <td>2014-01-01</td>\n",
       "      <td>Davenport</td>\n",
       "      <td>42.0</td>\n",
       "      <td>19.0</td>\n",
       "      <td>8.0</td>\n",
       "      <td>71.0</td>\n",
       "      <td>26.339146</td>\n",
       "    </tr>\n",
       "    <tr>\n",
       "      <th>23</th>\n",
       "      <td>2014-01-01</td>\n",
       "      <td>Deer Park</td>\n",
       "      <td>39.0</td>\n",
       "      <td>19.0</td>\n",
       "      <td>13.0</td>\n",
       "      <td>151.0</td>\n",
       "      <td>12.329648</td>\n",
       "    </tr>\n",
       "    <tr>\n",
       "      <th>24</th>\n",
       "      <td>2014-01-01</td>\n",
       "      <td>Denver</td>\n",
       "      <td>108.0</td>\n",
       "      <td>27.0</td>\n",
       "      <td>25.0</td>\n",
       "      <td>93.0</td>\n",
       "      <td>17.036500</td>\n",
       "    </tr>\n",
       "    <tr>\n",
       "      <th>25</th>\n",
       "      <td>2014-03-31</td>\n",
       "      <td>Des Moines</td>\n",
       "      <td>44.0</td>\n",
       "      <td>1.0</td>\n",
       "      <td>9.0</td>\n",
       "      <td>93.0</td>\n",
       "      <td>10.745024</td>\n",
       "    </tr>\n",
       "    <tr>\n",
       "      <th>26</th>\n",
       "      <td>2014-03-31</td>\n",
       "      <td>East Hartford</td>\n",
       "      <td>33.0</td>\n",
       "      <td>6.0</td>\n",
       "      <td>7.0</td>\n",
       "      <td>143.0</td>\n",
       "      <td>17.294456</td>\n",
       "    </tr>\n",
       "    <tr>\n",
       "      <th>27</th>\n",
       "      <td>2014-01-01</td>\n",
       "      <td>East Highland Park</td>\n",
       "      <td>41.0</td>\n",
       "      <td>14.0</td>\n",
       "      <td>14.0</td>\n",
       "      <td>84.0</td>\n",
       "      <td>18.066970</td>\n",
       "    </tr>\n",
       "    <tr>\n",
       "      <th>28</th>\n",
       "      <td>2014-01-01</td>\n",
       "      <td>East Providence</td>\n",
       "      <td>40.0</td>\n",
       "      <td>20.0</td>\n",
       "      <td>15.0</td>\n",
       "      <td>108.0</td>\n",
       "      <td>12.329648</td>\n",
       "    </tr>\n",
       "    <tr>\n",
       "      <th>29</th>\n",
       "      <td>2014-01-01</td>\n",
       "      <td>East Saint Louis</td>\n",
       "      <td>49.0</td>\n",
       "      <td>43.0</td>\n",
       "      <td>16.0</td>\n",
       "      <td>112.0</td>\n",
       "      <td>13.949487</td>\n",
       "    </tr>\n",
       "    <tr>\n",
       "      <th>...</th>\n",
       "      <td>...</td>\n",
       "      <td>...</td>\n",
       "      <td>...</td>\n",
       "      <td>...</td>\n",
       "      <td>...</td>\n",
       "      <td>...</td>\n",
       "      <td>...</td>\n",
       "    </tr>\n",
       "    <tr>\n",
       "      <th>188</th>\n",
       "      <td>2016-01-01</td>\n",
       "      <td>Houston</td>\n",
       "      <td>54.0</td>\n",
       "      <td>9.0</td>\n",
       "      <td>15.0</td>\n",
       "      <td>61.0</td>\n",
       "      <td>10.745024</td>\n",
       "    </tr>\n",
       "    <tr>\n",
       "      <th>189</th>\n",
       "      <td>2016-01-01</td>\n",
       "      <td>Indianapolis (Remainder)</td>\n",
       "      <td>54.0</td>\n",
       "      <td>13.0</td>\n",
       "      <td>16.0</td>\n",
       "      <td>105.0</td>\n",
       "      <td>18.436983</td>\n",
       "    </tr>\n",
       "    <tr>\n",
       "      <th>190</th>\n",
       "      <td>2016-01-01</td>\n",
       "      <td>Johnstown</td>\n",
       "      <td>42.0</td>\n",
       "      <td>81.0</td>\n",
       "      <td>8.0</td>\n",
       "      <td>64.0</td>\n",
       "      <td>14.462600</td>\n",
       "    </tr>\n",
       "    <tr>\n",
       "      <th>191</th>\n",
       "      <td>2016-01-01</td>\n",
       "      <td>Kansas City</td>\n",
       "      <td>42.0</td>\n",
       "      <td>19.0</td>\n",
       "      <td>7.0</td>\n",
       "      <td>49.0</td>\n",
       "      <td>26.339146</td>\n",
       "    </tr>\n",
       "    <tr>\n",
       "      <th>192</th>\n",
       "      <td>2016-01-01</td>\n",
       "      <td>Lompoc</td>\n",
       "      <td>28.0</td>\n",
       "      <td>1.0</td>\n",
       "      <td>5.0</td>\n",
       "      <td>48.0</td>\n",
       "      <td>14.267589</td>\n",
       "    </tr>\n",
       "    <tr>\n",
       "      <th>193</th>\n",
       "      <td>2016-01-01</td>\n",
       "      <td>New York</td>\n",
       "      <td>88.0</td>\n",
       "      <td>14.0</td>\n",
       "      <td>14.0</td>\n",
       "      <td>61.0</td>\n",
       "      <td>18.436983</td>\n",
       "    </tr>\n",
       "    <tr>\n",
       "      <th>194</th>\n",
       "      <td>2016-01-01</td>\n",
       "      <td>North Little Rock</td>\n",
       "      <td>41.0</td>\n",
       "      <td>7.0</td>\n",
       "      <td>10.0</td>\n",
       "      <td>46.0</td>\n",
       "      <td>10.745024</td>\n",
       "    </tr>\n",
       "    <tr>\n",
       "      <th>195</th>\n",
       "      <td>2016-01-01</td>\n",
       "      <td>Northbrook</td>\n",
       "      <td>37.0</td>\n",
       "      <td>7.0</td>\n",
       "      <td>7.0</td>\n",
       "      <td>44.0</td>\n",
       "      <td>14.267589</td>\n",
       "    </tr>\n",
       "    <tr>\n",
       "      <th>196</th>\n",
       "      <td>2016-01-01</td>\n",
       "      <td>Not in a city</td>\n",
       "      <td>65.0</td>\n",
       "      <td>21.0</td>\n",
       "      <td>20.0</td>\n",
       "      <td>74.0</td>\n",
       "      <td>18.436983</td>\n",
       "    </tr>\n",
       "    <tr>\n",
       "      <th>197</th>\n",
       "      <td>2016-01-01</td>\n",
       "      <td>Oakland</td>\n",
       "      <td>45.0</td>\n",
       "      <td>30.0</td>\n",
       "      <td>16.0</td>\n",
       "      <td>45.0</td>\n",
       "      <td>12.329648</td>\n",
       "    </tr>\n",
       "    <tr>\n",
       "      <th>198</th>\n",
       "      <td>2016-01-04</td>\n",
       "      <td>Phoenix</td>\n",
       "      <td>63.0</td>\n",
       "      <td>9.0</td>\n",
       "      <td>18.0</td>\n",
       "      <td>67.0</td>\n",
       "      <td>13.808333</td>\n",
       "    </tr>\n",
       "    <tr>\n",
       "      <th>199</th>\n",
       "      <td>2016-01-01</td>\n",
       "      <td>Portland</td>\n",
       "      <td>44.0</td>\n",
       "      <td>17.0</td>\n",
       "      <td>15.0</td>\n",
       "      <td>51.0</td>\n",
       "      <td>12.329648</td>\n",
       "    </tr>\n",
       "    <tr>\n",
       "      <th>200</th>\n",
       "      <td>2016-01-01</td>\n",
       "      <td>Raleigh</td>\n",
       "      <td>42.0</td>\n",
       "      <td>6.0</td>\n",
       "      <td>10.0</td>\n",
       "      <td>54.0</td>\n",
       "      <td>10.745024</td>\n",
       "    </tr>\n",
       "    <tr>\n",
       "      <th>201</th>\n",
       "      <td>2016-01-01</td>\n",
       "      <td>Reno</td>\n",
       "      <td>45.0</td>\n",
       "      <td>7.0</td>\n",
       "      <td>13.0</td>\n",
       "      <td>47.0</td>\n",
       "      <td>10.745024</td>\n",
       "    </tr>\n",
       "    <tr>\n",
       "      <th>202</th>\n",
       "      <td>2016-01-01</td>\n",
       "      <td>Salt Lake City</td>\n",
       "      <td>57.0</td>\n",
       "      <td>4.0</td>\n",
       "      <td>15.0</td>\n",
       "      <td>36.0</td>\n",
       "      <td>10.745024</td>\n",
       "    </tr>\n",
       "    <tr>\n",
       "      <th>203</th>\n",
       "      <td>2016-01-01</td>\n",
       "      <td>San Jose</td>\n",
       "      <td>48.0</td>\n",
       "      <td>1.0</td>\n",
       "      <td>15.0</td>\n",
       "      <td>67.0</td>\n",
       "      <td>10.745024</td>\n",
       "    </tr>\n",
       "    <tr>\n",
       "      <th>204</th>\n",
       "      <td>2016-01-01</td>\n",
       "      <td>San Pablo</td>\n",
       "      <td>36.0</td>\n",
       "      <td>17.0</td>\n",
       "      <td>11.0</td>\n",
       "      <td>61.0</td>\n",
       "      <td>12.329648</td>\n",
       "    </tr>\n",
       "    <tr>\n",
       "      <th>205</th>\n",
       "      <td>2016-01-01</td>\n",
       "      <td>Seattle</td>\n",
       "      <td>41.0</td>\n",
       "      <td>3.0</td>\n",
       "      <td>8.0</td>\n",
       "      <td>35.0</td>\n",
       "      <td>14.267589</td>\n",
       "    </tr>\n",
       "    <tr>\n",
       "      <th>206</th>\n",
       "      <td>2016-01-01</td>\n",
       "      <td>St. Louis</td>\n",
       "      <td>40.0</td>\n",
       "      <td>7.0</td>\n",
       "      <td>11.0</td>\n",
       "      <td>43.0</td>\n",
       "      <td>10.745024</td>\n",
       "    </tr>\n",
       "    <tr>\n",
       "      <th>207</th>\n",
       "      <td>2016-01-01</td>\n",
       "      <td>Tucson</td>\n",
       "      <td>42.0</td>\n",
       "      <td>1.0</td>\n",
       "      <td>8.0</td>\n",
       "      <td>58.0</td>\n",
       "      <td>14.267589</td>\n",
       "    </tr>\n",
       "    <tr>\n",
       "      <th>208</th>\n",
       "      <td>2016-01-01</td>\n",
       "      <td>Tulsa</td>\n",
       "      <td>42.0</td>\n",
       "      <td>13.0</td>\n",
       "      <td>14.0</td>\n",
       "      <td>74.0</td>\n",
       "      <td>18.066970</td>\n",
       "    </tr>\n",
       "    <tr>\n",
       "      <th>209</th>\n",
       "      <td>2016-01-01</td>\n",
       "      <td>Vallejo</td>\n",
       "      <td>36.0</td>\n",
       "      <td>9.0</td>\n",
       "      <td>20.0</td>\n",
       "      <td>84.0</td>\n",
       "      <td>18.422667</td>\n",
       "    </tr>\n",
       "    <tr>\n",
       "      <th>210</th>\n",
       "      <td>2016-01-01</td>\n",
       "      <td>Vandenberg Air Force Base</td>\n",
       "      <td>7.0</td>\n",
       "      <td>4.0</td>\n",
       "      <td>5.0</td>\n",
       "      <td>51.0</td>\n",
       "      <td>14.267589</td>\n",
       "    </tr>\n",
       "    <tr>\n",
       "      <th>211</th>\n",
       "      <td>2016-01-02</td>\n",
       "      <td>Victorville</td>\n",
       "      <td>51.0</td>\n",
       "      <td>3.0</td>\n",
       "      <td>10.0</td>\n",
       "      <td>84.0</td>\n",
       "      <td>10.745024</td>\n",
       "    </tr>\n",
       "    <tr>\n",
       "      <th>212</th>\n",
       "      <td>2016-01-01</td>\n",
       "      <td>Waco</td>\n",
       "      <td>41.0</td>\n",
       "      <td>13.0</td>\n",
       "      <td>3.0</td>\n",
       "      <td>64.0</td>\n",
       "      <td>19.923520</td>\n",
       "    </tr>\n",
       "    <tr>\n",
       "      <th>213</th>\n",
       "      <td>2016-03-04</td>\n",
       "      <td>Washington</td>\n",
       "      <td>55.0</td>\n",
       "      <td>11.0</td>\n",
       "      <td>9.0</td>\n",
       "      <td>93.0</td>\n",
       "      <td>15.051583</td>\n",
       "    </tr>\n",
       "    <tr>\n",
       "      <th>214</th>\n",
       "      <td>2016-01-01</td>\n",
       "      <td>Welby</td>\n",
       "      <td>62.0</td>\n",
       "      <td>14.0</td>\n",
       "      <td>18.0</td>\n",
       "      <td>49.0</td>\n",
       "      <td>18.436983</td>\n",
       "    </tr>\n",
       "    <tr>\n",
       "      <th>215</th>\n",
       "      <td>2016-01-01</td>\n",
       "      <td>Wilmington</td>\n",
       "      <td>58.0</td>\n",
       "      <td>13.0</td>\n",
       "      <td>16.0</td>\n",
       "      <td>61.0</td>\n",
       "      <td>18.436983</td>\n",
       "    </tr>\n",
       "    <tr>\n",
       "      <th>216</th>\n",
       "      <td>2016-01-01</td>\n",
       "      <td>Winter Park</td>\n",
       "      <td>38.0</td>\n",
       "      <td>7.0</td>\n",
       "      <td>15.0</td>\n",
       "      <td>67.0</td>\n",
       "      <td>10.745024</td>\n",
       "    </tr>\n",
       "    <tr>\n",
       "      <th>217</th>\n",
       "      <td>2016-01-01</td>\n",
       "      <td>York</td>\n",
       "      <td>56.0</td>\n",
       "      <td>26.0</td>\n",
       "      <td>11.0</td>\n",
       "      <td>64.0</td>\n",
       "      <td>18.436983</td>\n",
       "    </tr>\n",
       "  </tbody>\n",
       "</table>\n",
       "<p>218 rows × 7 columns</p>\n",
       "</div>"
      ],
      "text/plain": [
       "           Year                       City  Max_NO2_AQI  Max_SO2_AQI  \\\n",
       "0    2014-01-01                Albuquerque         43.0         92.0   \n",
       "1    2014-01-01               Arden-Arcade         41.0          7.0   \n",
       "2    2014-01-02                     Austin         34.0         10.0   \n",
       "3    2014-01-01                Baton Rouge         55.0         54.0   \n",
       "4    2014-01-01                 Beltsville         40.0         20.0   \n",
       "5    2014-01-01              Bethel Island         31.0         14.0   \n",
       "6    2014-01-01                 Birmingham         82.0         97.0   \n",
       "7    2014-05-02                     Blaine         37.0         11.0   \n",
       "8    2014-01-01                     Boston         60.0         40.0   \n",
       "9    2014-01-01                    Bristol         50.0         20.0   \n",
       "10   2014-01-01                    Burbank         71.0          6.0   \n",
       "11   2014-01-01                   Calexico         93.0         16.0   \n",
       "12   2014-01-01                     Camden         62.0         14.0   \n",
       "13   2014-01-01                    Capitan         12.0        117.0   \n",
       "14   2014-01-01                  Charleroi         42.0         82.0   \n",
       "15   2014-01-01                  Charlotte         48.0         11.0   \n",
       "16   2014-01-01                 Cincinnati         47.0        122.0   \n",
       "17   2014-01-01                  Cleveland         64.0         95.0   \n",
       "18   2014-01-01                    Concord         45.0         41.0   \n",
       "19   2014-01-01                   Cornwall         37.0         13.0   \n",
       "20   2014-01-01                 Costa Mesa         57.0         11.0   \n",
       "21   2014-01-01                     Dallas         54.0          9.0   \n",
       "22   2014-01-01                  Davenport         42.0         19.0   \n",
       "23   2014-01-01                  Deer Park         39.0         19.0   \n",
       "24   2014-01-01                     Denver        108.0         27.0   \n",
       "25   2014-03-31                 Des Moines         44.0          1.0   \n",
       "26   2014-03-31              East Hartford         33.0          6.0   \n",
       "27   2014-01-01         East Highland Park         41.0         14.0   \n",
       "28   2014-01-01            East Providence         40.0         20.0   \n",
       "29   2014-01-01           East Saint Louis         49.0         43.0   \n",
       "..          ...                        ...          ...          ...   \n",
       "188  2016-01-01                    Houston         54.0          9.0   \n",
       "189  2016-01-01   Indianapolis (Remainder)         54.0         13.0   \n",
       "190  2016-01-01                  Johnstown         42.0         81.0   \n",
       "191  2016-01-01                Kansas City         42.0         19.0   \n",
       "192  2016-01-01                     Lompoc         28.0          1.0   \n",
       "193  2016-01-01                   New York         88.0         14.0   \n",
       "194  2016-01-01          North Little Rock         41.0          7.0   \n",
       "195  2016-01-01                 Northbrook         37.0          7.0   \n",
       "196  2016-01-01              Not in a city         65.0         21.0   \n",
       "197  2016-01-01                    Oakland         45.0         30.0   \n",
       "198  2016-01-04                    Phoenix         63.0          9.0   \n",
       "199  2016-01-01                   Portland         44.0         17.0   \n",
       "200  2016-01-01                    Raleigh         42.0          6.0   \n",
       "201  2016-01-01                       Reno         45.0          7.0   \n",
       "202  2016-01-01             Salt Lake City         57.0          4.0   \n",
       "203  2016-01-01                   San Jose         48.0          1.0   \n",
       "204  2016-01-01                  San Pablo         36.0         17.0   \n",
       "205  2016-01-01                    Seattle         41.0          3.0   \n",
       "206  2016-01-01                  St. Louis         40.0          7.0   \n",
       "207  2016-01-01                     Tucson         42.0          1.0   \n",
       "208  2016-01-01                      Tulsa         42.0         13.0   \n",
       "209  2016-01-01                    Vallejo         36.0          9.0   \n",
       "210  2016-01-01  Vandenberg Air Force Base          7.0          4.0   \n",
       "211  2016-01-02                Victorville         51.0          3.0   \n",
       "212  2016-01-01                       Waco         41.0         13.0   \n",
       "213  2016-03-04                 Washington         55.0         11.0   \n",
       "214  2016-01-01                      Welby         62.0         14.0   \n",
       "215  2016-01-01                 Wilmington         58.0         13.0   \n",
       "216  2016-01-01                Winter Park         38.0          7.0   \n",
       "217  2016-01-01                       York         56.0         26.0   \n",
       "\n",
       "     Max_CO_AQI  Max_O3_AQI  Temperature_Predicted  \n",
       "0          15.0        87.0              13.949487  \n",
       "1          19.0       122.0              15.797569  \n",
       "2           5.0        97.0              19.923520  \n",
       "3          47.0       129.0              11.556602  \n",
       "4          10.0       101.0              26.339146  \n",
       "5           8.0       101.0              19.923520  \n",
       "6          11.0        90.0              11.067763  \n",
       "7           8.0        93.0              19.923520  \n",
       "8          13.0        54.0              13.949487  \n",
       "9          16.0        84.0              18.436983  \n",
       "10         34.0       129.0              18.675667  \n",
       "11         43.0       151.0              17.036500  \n",
       "12         17.0       115.0              18.436983  \n",
       "13          5.0       151.0              14.462600  \n",
       "14          9.0       100.0              11.756817  \n",
       "15         17.0       105.0              18.436983  \n",
       "16          9.0       126.0              11.756817  \n",
       "17         15.0        97.0              11.067763  \n",
       "18         13.0       133.0              13.949487  \n",
       "19          7.0       129.0              19.923520  \n",
       "20         22.0       129.0              17.036500  \n",
       "21         17.0       100.0              13.808333  \n",
       "22          8.0        71.0              26.339146  \n",
       "23         13.0       151.0              12.329648  \n",
       "24         25.0        93.0              17.036500  \n",
       "25          9.0        93.0              10.745024  \n",
       "26          7.0       143.0              17.294456  \n",
       "27         14.0        84.0              18.066970  \n",
       "28         15.0       108.0              12.329648  \n",
       "29         16.0       112.0              13.949487  \n",
       "..          ...         ...                    ...  \n",
       "188        15.0        61.0              10.745024  \n",
       "189        16.0       105.0              18.436983  \n",
       "190         8.0        64.0              14.462600  \n",
       "191         7.0        49.0              26.339146  \n",
       "192         5.0        48.0              14.267589  \n",
       "193        14.0        61.0              18.436983  \n",
       "194        10.0        46.0              10.745024  \n",
       "195         7.0        44.0              14.267589  \n",
       "196        20.0        74.0              18.436983  \n",
       "197        16.0        45.0              12.329648  \n",
       "198        18.0        67.0              13.808333  \n",
       "199        15.0        51.0              12.329648  \n",
       "200        10.0        54.0              10.745024  \n",
       "201        13.0        47.0              10.745024  \n",
       "202        15.0        36.0              10.745024  \n",
       "203        15.0        67.0              10.745024  \n",
       "204        11.0        61.0              12.329648  \n",
       "205         8.0        35.0              14.267589  \n",
       "206        11.0        43.0              10.745024  \n",
       "207         8.0        58.0              14.267589  \n",
       "208        14.0        74.0              18.066970  \n",
       "209        20.0        84.0              18.422667  \n",
       "210         5.0        51.0              14.267589  \n",
       "211        10.0        84.0              10.745024  \n",
       "212         3.0        64.0              19.923520  \n",
       "213         9.0        93.0              15.051583  \n",
       "214        18.0        49.0              18.436983  \n",
       "215        16.0        61.0              18.436983  \n",
       "216        15.0        67.0              10.745024  \n",
       "217        11.0        64.0              18.436983  \n",
       "\n",
       "[218 rows x 7 columns]"
      ]
     },
     "execution_count": 310,
     "metadata": {},
     "output_type": "execute_result"
    }
   ],
   "source": [
    "all_data"
   ]
  },
  {
   "cell_type": "code",
   "execution_count": 311,
   "metadata": {
    "collapsed": true
   },
   "outputs": [],
   "source": [
    "all_data.to_csv(\"Predicted_temperatures_DT.csv\")"
   ]
  },
  {
   "cell_type": "code",
   "execution_count": 57,
   "metadata": {
    "collapsed": true
   },
   "outputs": [],
   "source": [
    "list_of_data=[]\n",
    "for i in range(len(test_table.collect())):\n",
    "    list_of_data.append([list_predict[i],test_table.collect()[i].Max_NO2_AQI,test_table.collect()[i].Max_SO2_AQI,test_table.collect()[i].Max_CO_AQI,test_table.collect()[i].Max_O3_AQI])"
   ]
  },
  {
   "cell_type": "code",
   "execution_count": 58,
   "metadata": {},
   "outputs": [
    {
     "data": {
      "text/plain": [
       "[[13.949487037037038, 43.0, 92.0, 15.0, 87.0],\n",
       " [15.797569444444443, 41.0, 7.0, 19.0, 122.0],\n",
       " [19.923519841269844, 34.0, 10.0, 5.0, 97.0],\n",
       " [11.556602272727275, 55.0, 54.0, 47.0, 129.0],\n",
       " [26.339145833333333, 40.0, 20.0, 10.0, 101.0],\n",
       " [19.923519841269844, 31.0, 14.0, 8.0, 101.0],\n",
       " [11.067762820512817, 82.0, 97.0, 11.0, 90.0],\n",
       " [19.923519841269844, 37.0, 11.0, 8.0, 93.0],\n",
       " [13.949487037037038, 60.0, 40.0, 13.0, 54.0],\n",
       " [18.436983333333334, 50.0, 20.0, 16.0, 84.0],\n",
       " [18.67566666666667, 71.0, 6.0, 34.0, 129.0],\n",
       " [17.036499507947113, 93.0, 16.0, 43.0, 151.0],\n",
       " [18.436983333333334, 62.0, 14.0, 17.0, 115.0],\n",
       " [14.4626, 12.0, 117.0, 5.0, 151.0],\n",
       " [11.756817401960785, 42.0, 82.0, 9.0, 100.0],\n",
       " [18.436983333333334, 48.0, 11.0, 17.0, 105.0],\n",
       " [11.756817401960785, 47.0, 122.0, 9.0, 126.0],\n",
       " [11.067762820512817, 64.0, 95.0, 15.0, 97.0],\n",
       " [13.949487037037038, 45.0, 41.0, 13.0, 133.0],\n",
       " [19.923519841269844, 37.0, 13.0, 7.0, 129.0],\n",
       " [17.036499507947113, 57.0, 11.0, 22.0, 129.0],\n",
       " [13.808333333333332, 54.0, 9.0, 17.0, 100.0],\n",
       " [26.339145833333333, 42.0, 19.0, 8.0, 71.0],\n",
       " [12.32964814814815, 39.0, 19.0, 13.0, 151.0],\n",
       " [17.036499507947113, 108.0, 27.0, 25.0, 93.0],\n",
       " [10.745023809523806, 44.0, 1.0, 9.0, 93.0],\n",
       " [17.294455555555558, 33.0, 6.0, 7.0, 143.0],\n",
       " [18.066970238095237, 41.0, 14.0, 14.0, 84.0],\n",
       " [12.32964814814815, 40.0, 20.0, 15.0, 108.0],\n",
       " [13.949487037037038, 49.0, 43.0, 16.0, 112.0],\n",
       " [15.797569444444443, 54.0, 1.0, 20.0, 115.0],\n",
       " [17.036499507947113, 68.0, 16.0, 32.0, 115.0],\n",
       " [12.32964814814815, 44.0, 20.0, 11.0, 101.0],\n",
       " [13.949487037037038, 51.0, 61.0, 16.0, 105.0],\n",
       " [10.745023809523806, 33.0, 1.0, 10.0, 46.0],\n",
       " [12.870636666666666, 95.0, 49.0, 22.0, 32.0],\n",
       " [17.294455555555558, 68.0, 6.0, 15.0, 200.0],\n",
       " [18.67566666666667, 56.0, 9.0, 27.0, 172.0],\n",
       " [14.4626, 24.0, 54.0, 3.0, 87.0],\n",
       " [14.4626, 22.0, 62.0, 7.0, 97.0],\n",
       " [9.701924382716049, 72.0, 54.0, 17.0, 93.0],\n",
       " [13.949487037037038, 54.0, 105.0, 14.0, 105.0],\n",
       " [13.949487037037038, 42.0, 81.0, 15.0, 108.0],\n",
       " [11.067762820512817, 77.0, 84.0, 13.0, 119.0],\n",
       " [15.797569444444443, 33.0, 7.0, 18.0, 101.0],\n",
       " [17.036499507947113, 107.0, 20.0, 30.0, 105.0],\n",
       " [17.036499507947113, 86.0, 21.0, 23.0, 172.0],\n",
       " [11.756817401960785, 45.0, 51.0, 10.0, 77.0],\n",
       " [18.436983333333334, 62.0, 27.0, 16.0, 126.0],\n",
       " [18.436983333333334, 68.0, 29.0, 17.0, 133.0],\n",
       " [17.036499507947113, 82.0, 19.0, 28.0, 115.0],\n",
       " [18.436983333333334, 54.0, 16.0, 14.0, 100.0],\n",
       " [11.756817401960785, 54.0, 39.0, 9.0, 97.0],\n",
       " [17.036499507947113, 68.0, 30.0, 23.0, 122.0],\n",
       " [17.036499507947113, 53.0, 23.0, 30.0, 64.0],\n",
       " [19.923519841269844, 44.0, 10.0, 8.0, 115.0],\n",
       " [18.436983333333334, 65.0, 17.0, 15.0, 90.0],\n",
       " [17.036499507947113, 68.0, 16.0, 28.0, 147.0],\n",
       " [13.949487037037038, 39.0, 79.0, 17.0, 101.0],\n",
       " [12.32964814814815, 41.0, 31.0, 15.0, 115.0],\n",
       " [14.26758888888889, 25.0, 4.0, 5.0, 48.0],\n",
       " [18.066970238095237, 40.0, 11.0, 14.0, 100.0],\n",
       " [15.797569444444443, 57.0, 9.0, 19.0, 119.0],\n",
       " [14.26758888888889, 22.0, 6.0, 0.0, 87.0],\n",
       " [18.67566666666667, 56.0, 7.0, 22.0, 197.0],\n",
       " [18.436983333333334, 55.0, 33.0, 19.0, 122.0],\n",
       " [13.808333333333332, 55.0, 4.0, 22.0, 87.0],\n",
       " [18.436983333333334, 48.0, 21.0, 11.0, 67.0],\n",
       " [14.26758888888889, 42.0, 3.0, 5.0, 44.0],\n",
       " [26.339145833333333, 37.0, 29.0, 6.0, 105.0],\n",
       " [13.949487037037038, 50.0, 66.0, 16.0, 101.0],\n",
       " [15.051583333333326, 39.0, 13.0, 9.0, 122.0],\n",
       " [18.066970238095237, 43.0, 13.0, 11.0, 105.0],\n",
       " [17.036499507947113, 47.0, 33.0, 24.0, 93.0],\n",
       " [26.339145833333333, 36.0, 21.0, 6.0, 101.0],\n",
       " [17.294455555555558, 64.0, 6.0, 13.0, 177.0],\n",
       " [14.26758888888889, 26.0, 4.0, 8.0, 71.0],\n",
       " [19.923519841269844, 29.0, 17.0, 6.0, 105.0],\n",
       " [11.556602272727275, 62.0, 40.0, 25.0, 133.0],\n",
       " [12.870636666666666, 102.0, 64.0, 20.0, 108.0],\n",
       " [18.436983333333334, 52.0, 19.0, 13.0, 143.0],\n",
       " [12.32964814814815, 40.0, 33.0, 19.0, 126.0],\n",
       " [20.738208333333333, 55.0, 54.0, 7.0, 87.0],\n",
       " [15.797569444444443, 45.0, 9.0, 16.0, 101.0],\n",
       " [17.036499507947113, 49.0, 11.0, 23.0, 159.0],\n",
       " [11.556602272727275, 66.0, 37.0, 19.0, 122.0],\n",
       " [18.066970238095237, 42.0, 16.0, 11.0, 156.0],\n",
       " [15.051583333333326, 26.0, 11.0, 10.0, 105.0],\n",
       " [11.756817401960785, 45.0, 69.0, 9.0, 147.0],\n",
       " [18.436983333333334, 85.0, 10.0, 14.0, 105.0],\n",
       " [15.051583333333326, 57.0, 17.0, 10.0, 126.0],\n",
       " [17.036499507947113, 82.0, 23.0, 45.0, 140.0],\n",
       " [18.436983333333334, 64.0, 29.0, 19.0, 161.0],\n",
       " [14.4626, 10.0, 36.0, 3.0, 101.0],\n",
       " [13.949487037037038, 48.0, 81.0, 14.0, 115.0],\n",
       " [12.32964814814815, 42.0, 23.0, 16.0, 119.0],\n",
       " [11.756817401960785, 54.0, 62.0, 9.0, 115.0],\n",
       " [13.949487037037038, 55.0, 108.0, 15.0, 90.0],\n",
       " [15.797569444444443, 31.0, 9.0, 15.0, 108.0],\n",
       " [9.701924382716049, 106.0, 49.0, 15.0, 147.0],\n",
       " [18.67566666666667, 49.0, 6.0, 25.0, 129.0],\n",
       " [18.67566666666667, 54.0, 7.0, 19.0, 147.0],\n",
       " [18.436983333333334, 47.0, 14.0, 11.0, 90.0],\n",
       " [18.436983333333334, 64.0, 23.0, 13.0, 174.0],\n",
       " [12.870636666666666, 94.0, 34.0, 27.0, 122.0],\n",
       " [14.26758888888889, 39.0, 3.0, 8.0, 84.0],\n",
       " [17.294455555555558, 54.0, 1.0, 6.0, 147.0],\n",
       " [18.066970238095237, 39.0, 14.0, 13.0, 119.0],\n",
       " [12.32964814814815, 46.0, 23.0, 13.0, 159.0],\n",
       " [13.949487037037038, 44.0, 41.0, 14.0, 115.0],\n",
       " [10.745023809523806, 56.0, 1.0, 13.0, 90.0],\n",
       " [17.036499507947113, 93.0, 17.0, 27.0, 115.0],\n",
       " [11.756817401960785, 50.0, 54.0, 10.0, 115.0],\n",
       " [11.556602272727275, 50.0, 43.0, 19.0, 115.0],\n",
       " [10.745023809523806, 24.0, 1.0, 10.0, 42.0],\n",
       " [15.600605654761905, 83.0, 72.0, 43.0, 47.0],\n",
       " [17.294455555555558, 88.0, 6.0, 14.0, 206.0],\n",
       " [18.066970238095237, 46.0, 14.0, 20.0, 182.0],\n",
       " [14.4626, 15.0, 46.0, 5.0, 100.0],\n",
       " [14.26758888888889, 21.0, 7.0, 7.0, 90.0],\n",
       " [18.436983333333334, 87.0, 14.0, 14.0, 169.0],\n",
       " [13.949487037037038, 56.0, 102.0, 17.0, 101.0],\n",
       " [11.067762820512817, 85.0, 85.0, 13.0, 97.0],\n",
       " [13.949487037037038, 55.0, 74.0, 14.0, 87.0],\n",
       " [10.745023809523806, 26.0, 3.0, 9.0, 67.0],\n",
       " [12.870636666666666, 72.0, 52.0, 25.0, 87.0],\n",
       " [18.436983333333334, 86.0, 20.0, 20.0, 122.0],\n",
       " [12.32964814814815, 42.0, 21.0, 11.0, 174.0],\n",
       " [18.436983333333334, 79.0, 10.0, 15.0, 169.0],\n",
       " [18.436983333333334, 97.0, 19.0, 18.0, 136.0],\n",
       " [17.036499507947113, 77.0, 11.0, 23.0, 112.0],\n",
       " [11.756817401960785, 54.0, 41.0, 11.0, 97.0],\n",
       " [26.339145833333333, 41.0, 21.0, 9.0, 101.0],\n",
       " [15.789712962962959, 65.0, 92.0, 27.0, 150.0],\n",
       " [17.036499507947113, 54.0, 30.0, 30.0, 80.0],\n",
       " [18.422666666666668, 37.0, 4.0, 23.0, 64.0],\n",
       " [17.036499507947113, 61.0, 13.0, 23.0, 122.0],\n",
       " [17.036499507947113, 83.0, 23.0, 23.0, 74.0],\n",
       " [14.26758888888889, 26.0, 9.0, 6.0, 51.0],\n",
       " [18.066970238095237, 38.0, 13.0, 15.0, 101.0],\n",
       " [18.436983333333334, 51.0, 10.0, 17.0, 115.0],\n",
       " [14.26758888888889, 17.0, 9.0, 0.0, 71.0],\n",
       " [18.67566666666667, 54.0, 1.0, 19.0, 200.0],\n",
       " [18.436983333333334, 61.0, 33.0, 20.0, 143.0],\n",
       " [18.67566666666667, 46.0, 4.0, 18.0, 136.0],\n",
       " [18.066970238095237, 42.0, 14.0, 13.0, 74.0],\n",
       " [15.051583333333326, 52.0, 13.0, 9.0, 46.0],\n",
       " [15.797569444444443, 36.0, 6.0, 8.0, 122.0],\n",
       " [13.949487037037038, 55.0, 57.0, 17.0, 64.0],\n",
       " [10.745023809523806, 38.0, 7.0, 9.0, 80.0],\n",
       " [18.436983333333334, 48.0, 19.0, 14.0, 147.0],\n",
       " [18.422666666666668, 42.0, 7.0, 22.0, 100.0],\n",
       " [14.26758888888889, 8.0, 4.0, 5.0, 71.0],\n",
       " [15.600605654761905, 104.0, 147.0, 57.0, 200.0],\n",
       " [14.26758888888889, 31.0, 7.0, 6.0, 90.0],\n",
       " [19.923519841269844, 32.0, 14.0, 3.0, 115.0],\n",
       " [18.436983333333334, 60.0, 26.0, 17.0, 126.0],\n",
       " [17.036499507947113, 70.0, 27.0, 23.0, 115.0],\n",
       " [18.066970238095237, 41.0, 14.0, 14.0, 105.0],\n",
       " [10.745023809523806, 33.0, 7.0, 15.0, 84.0],\n",
       " [9.701924382716049, 64.0, 56.0, 11.0, 108.0],\n",
       " [10.745023809523806, 31.0, 6.0, 16.0, 32.0],\n",
       " [18.436983333333334, 80.0, 29.0, 20.0, 77.0],\n",
       " [15.051583333333326, 44.0, 10.0, 9.0, 71.0],\n",
       " [14.26758888888889, 25.0, 4.0, 7.0, 97.0],\n",
       " [11.556602272727275, 48.0, 65.0, 20.0, 112.0],\n",
       " [10.745023809523806, 48.0, 9.0, 14.0, 45.0],\n",
       " [13.808333333333332, 83.0, 9.0, 35.0, 97.0],\n",
       " [14.26758888888889, 14.0, 3.0, 3.0, 74.0],\n",
       " [10.745023809523806, 39.0, 6.0, 9.0, 100.0],\n",
       " [15.051583333333326, 46.0, 14.0, 9.0, 84.0],\n",
       " [9.701924382716049, 61.0, 55.0, 11.0, 54.0],\n",
       " [14.26758888888889, 27.0, 4.0, 8.0, 97.0],\n",
       " [10.745023809523806, 74.0, 4.0, 9.0, 54.0],\n",
       " [14.26758888888889, 33.0, 4.0, 6.0, 84.0],\n",
       " [18.066970238095237, 37.0, 10.0, 14.0, 74.0],\n",
       " [14.26758888888889, 37.0, 4.0, 7.0, 47.0],\n",
       " [18.436983333333334, 85.0, 11.0, 20.0, 46.0],\n",
       " [14.26758888888889, 32.0, 0.0, 6.0, 80.0],\n",
       " [10.745023809523806, 42.0, 7.0, 11.0, 44.0],\n",
       " [10.745023809523806, 45.0, 6.0, 10.0, 80.0],\n",
       " [11.756817401960785, 37.0, 40.0, 11.0, 67.0],\n",
       " [17.036499507947113, 77.0, 21.0, 23.0, 64.0],\n",
       " [19.923519841269844, 34.0, 11.0, 7.0, 50.0],\n",
       " [18.436983333333334, 48.0, 20.0, 17.0, 74.0],\n",
       " [10.745023809523806, 22.0, 1.0, 10.0, 38.0],\n",
       " [13.808333333333332, 50.0, 0.0, 19.0, 50.0],\n",
       " [19.923519841269844, 22.0, 11.0, 3.0, 61.0],\n",
       " [10.745023809523806, 54.0, 9.0, 15.0, 61.0],\n",
       " [18.436983333333334, 54.0, 13.0, 16.0, 105.0],\n",
       " [14.4626, 42.0, 81.0, 8.0, 64.0],\n",
       " [26.339145833333333, 42.0, 19.0, 7.0, 49.0],\n",
       " [14.26758888888889, 28.0, 1.0, 5.0, 48.0],\n",
       " [18.436983333333334, 88.0, 14.0, 14.0, 61.0],\n",
       " [10.745023809523806, 41.0, 7.0, 10.0, 46.0],\n",
       " [14.26758888888889, 37.0, 7.0, 7.0, 44.0],\n",
       " [18.436983333333334, 65.0, 21.0, 20.0, 74.0],\n",
       " [12.32964814814815, 45.0, 30.0, 16.0, 45.0],\n",
       " [13.808333333333332, 63.0, 9.0, 18.0, 67.0],\n",
       " [12.32964814814815, 44.0, 17.0, 15.0, 51.0],\n",
       " [10.745023809523806, 42.0, 6.0, 10.0, 54.0],\n",
       " [10.745023809523806, 45.0, 7.0, 13.0, 47.0],\n",
       " [10.745023809523806, 57.0, 4.0, 15.0, 36.0],\n",
       " [10.745023809523806, 48.0, 1.0, 15.0, 67.0],\n",
       " [12.32964814814815, 36.0, 17.0, 11.0, 61.0],\n",
       " [14.26758888888889, 41.0, 3.0, 8.0, 35.0],\n",
       " [10.745023809523806, 40.0, 7.0, 11.0, 43.0],\n",
       " [14.26758888888889, 42.0, 1.0, 8.0, 58.0],\n",
       " [18.066970238095237, 42.0, 13.0, 14.0, 74.0],\n",
       " [18.422666666666668, 36.0, 9.0, 20.0, 84.0],\n",
       " [14.26758888888889, 7.0, 4.0, 5.0, 51.0],\n",
       " [10.745023809523806, 51.0, 3.0, 10.0, 84.0],\n",
       " [19.923519841269844, 41.0, 13.0, 3.0, 64.0],\n",
       " [15.051583333333326, 55.0, 11.0, 9.0, 93.0],\n",
       " [18.436983333333334, 62.0, 14.0, 18.0, 49.0],\n",
       " [18.436983333333334, 58.0, 13.0, 16.0, 61.0],\n",
       " [10.745023809523806, 38.0, 7.0, 15.0, 67.0],\n",
       " [18.436983333333334, 56.0, 26.0, 11.0, 64.0]]"
      ]
     },
     "execution_count": 58,
     "metadata": {},
     "output_type": "execute_result"
    }
   ],
   "source": [
    "list_of_data"
   ]
  },
  {
   "cell_type": "code",
   "execution_count": 84,
   "metadata": {},
   "outputs": [
    {
     "data": {
      "text/plain": [
       "18"
      ]
     },
     "execution_count": 84,
     "metadata": {},
     "output_type": "execute_result"
    }
   ],
   "source": [
    "list_target=[]\n",
    "list_features=[]\n",
    "for i in range(len(list_of_data)-200):\n",
    "    list_target.append(list_of_data[i][0])\n",
    "    list_features.append(list_of_data[i][1:])\n",
    "len(list_target)\n"
   ]
  },
  {
   "cell_type": "code",
   "execution_count": 92,
   "metadata": {},
   "outputs": [
    {
     "data": {
      "text/plain": [
       "13.949487037037038"
      ]
     },
     "execution_count": 92,
     "metadata": {},
     "output_type": "execute_result"
    }
   ],
   "source": [
    "list_target[0]"
   ]
  },
  {
   "cell_type": "code",
   "execution_count": 98,
   "metadata": {},
   "outputs": [
    {
     "data": {
      "image/png": "[encoded data removed]",
      "text/plain": [
       "<matplotlib.figure.Figure at 0x10d55f080>"
      ]
     },
     "metadata": {},
     "output_type": "display_data"
    }
   ],
   "source": [
    "import matplotlib.pyplot as plt\n",
    "\n",
    "fig = plt.figure(figsize=[30,30])\n",
    "\n",
    "y_values = [x for x in list_target]\n",
    "x_values = [x for x in list_features]\n",
    "plt.xlabel(\"AQI Values\",fontsize=30)\n",
    "plt.ylabel(\"Temperature\",fontsize=30)\n",
    "plt.plot(x_values,y_values)\n",
    "plt.show()"
   ]
  },
  {
   "cell_type": "code",
   "execution_count": 239,
   "metadata": {
    "collapsed": true
   },
   "outputs": [],
   "source": [
    "import pandas as pd\n",
    "import numpy as np\n",
    "causes_of_death=pd.read_csv(\"NCHS_-_Leading_Causes_of_Death__United_States.csv\")"
   ]
  },
  {
   "cell_type": "code",
   "execution_count": 240,
   "metadata": {
    "collapsed": true
   },
   "outputs": [],
   "source": [
    "not_wanted_diseases_list=[\n",
    "                          'All Causes',\n",
    "                          'Assault (homicide) (*U01-*U02,X85-Y09,Y87.1)',\n",
    "                          'Assault (homicide) by discharge of firearms (*U01.4,X93-X95)',\n",
    "                          'Assault (homicide) by other and unspecified means and their sequelae (*U01.0-*U01.3,*U01.5-*U01.9,*U02,X85-X92,X96-Y09,Y87.1)'\n",
    "                          'Legal intervention (Y35,Y89.0)',\n",
    "                          'Events of undetermined intent (Y10-Y34,Y87.2,Y89.9)',\n",
    "                          'Discharge of firearms, undetermined intent (Y22-Y24)',\n",
    "                          'Other and unspecified events of undetermined intent and their sequelae (Y10-Y21,Y25-Y34,Y87.2,Y89.9)',\n",
    "                          'Operations of war and their sequelae (Y36,Y89.1)',\n",
    "                          'Complications of medical and surgical care (Y40-Y84,Y88)',\n",
    "                          'Other land transport accidents (V01,V05-V06,V09.1,V09.3-V09.9, V10-V11,V15-V18,V19.3,V19.8-V19.9,V80.0-V80.2,V80.6-V80.9,V81.2-V81.9,V82.2-V82.9,V87.9,V88.9,V89.1,V89.3,V89.9)',\n",
    "                          'Water, air and space, and other and unspecified transport accidents and theirsequelae (V90-V99,Y85)',\n",
    "                          'Nontransport accidents (W00-X59,Y86)',\n",
    "                          'Falls (W00-W19)',\n",
    "                          'Accidental discharge of firearms (W32-W34)',\n",
    "                          'Accidental drowning and submersion (W65-W74)',\n",
    "                          'Accidental exposure to smoke, fire and flames (X00-X09)',\n",
    "                          'Accidental poisoning and exposure to noxious substances (X40-X49)',\n",
    "                          'Other and unspecified nontransport accidents and their sequelae (W20-W31,W35-W64,W75-W99,X10-X39,X50-X59,Y86)',\n",
    "                          'Intentional self-harm (suicide) (*U03,X60-X84,Y87.0)',\n",
    "                          'Intentional self-harm (suicide) by discharge of firearms (X72-X74)',\n",
    "                          'Intentional self-harm (suicide) by other and unspecified means and their sequelae (*U03,X60-X71,X75-X84,Y87.0)',\n",
    "                          'Accidents (unintentional injuries) (V01-X59,Y85-Y86)',\n",
    "                          'Transport accidents (V01-V99,Y85)',\n",
    "                          'Motor vehicle accidents (V02-V04,V09.0,V09.2,V12-V14,V19.0-V19.2,V19.4-V19.6,V20-V79,V80.3-V80.5,V81.0-V81.1,V82.0-V82.1,V83-V86,V87.0-V87.8,V88.0-V88.8,V89.0,V89.2)',\n",
    "                          'All other diseases (Residual) (D65-E07,E15-E34,E65-F99,G04-G14,G23-G25,G31-H93,K00-K22,K29-K31,K50-K66,K71-K72,K75-K76,K83-M99, N13.0-N13.5,N13.7-N13.9,N14,N15.0,N15.8-N15.9,N20-N23,N28-N39,N41-N64,N80-N98)'\n",
    "                                                 \n",
    "                         ]\n",
    "causes_of_death = causes_of_death[~causes_of_death['113 Cause Name'].isin(not_wanted_diseases_list)]\n",
    "causes_of_death.shape\n",
    "causes_of_death.to_csv(\"Leading_Causes_of_death.csv\")\n"
   ]
  },
  {
   "cell_type": "code",
   "execution_count": 241,
   "metadata": {
    "collapsed": true
   },
   "outputs": [],
   "source": [
    "from datetime import datetime\n",
    "from pyspark.sql.functions import col, udf\n",
    "from pyspark.sql.types import DateType\n",
    "# converting the date from string to DateTime format using UDF\n",
    "func =  udf (lambda x: datetime.strptime(x, '%Y'), DateType())\n",
    "\n"
   ]
  },
  {
   "cell_type": "code",
   "execution_count": 242,
   "metadata": {},
   "outputs": [
    {
     "name": "stdout",
     "output_type": "stream",
     "text": [
      "root\n",
      " |-- _c0: string (nullable = true)\n",
      " |-- Year: date (nullable = true)\n",
      " |-- 113 Cause Name: string (nullable = true)\n",
      " |-- Cause Name: string (nullable = true)\n",
      " |-- State: string (nullable = true)\n",
      " |-- Deaths: string (nullable = true)\n",
      " |-- Age-adjusted Death Rate: string (nullable = true)\n",
      "\n"
     ]
    }
   ],
   "source": [
    "import pyspark\n",
    "from pyspark.sql import SQLContext\n",
    "from pyspark import SparkContext\n",
    "sc =SparkContext.getOrCreate()\n",
    "sqlContext = SQLContext(sc)\n",
    "df = sqlContext.read.csv(\"Leading_Causes_of_death.csv\", header=True)\n",
    "df = df.withColumn('Year', func(col('Year')))\n",
    "df.printSchema()\n",
    "df.registerTempTable(\"Death_data_Set\")\n"
   ]
  },
  {
   "cell_type": "code",
   "execution_count": 243,
   "metadata": {
    "collapsed": true
   },
   "outputs": [],
   "source": [
    "death=sqlContext.sql(\"SELECT YEAR(Year) AS Years,`113 Cause Name`,State, Deaths FROM Death_data_Set \")"
   ]
  },
  {
   "cell_type": "code",
   "execution_count": 244,
   "metadata": {},
   "outputs": [
    {
     "name": "stdout",
     "output_type": "stream",
     "text": [
      "+-----+--------------------+--------------------+------+\n",
      "|Years|      113 Cause Name|               State|Deaths|\n",
      "+-----+--------------------+--------------------+------+\n",
      "| 1999|Alzheimer's disea...|             Alabama| 772.0|\n",
      "| 1999|Alzheimer's disea...|              Alaska|  24.0|\n",
      "| 1999|Alzheimer's disea...|             Arizona| 963.0|\n",
      "| 1999|Alzheimer's disea...|            Arkansas| 434.0|\n",
      "| 1999|Alzheimer's disea...|          California|4532.0|\n",
      "| 1999|Alzheimer's disea...|            Colorado| 756.0|\n",
      "| 1999|Alzheimer's disea...|         Connecticut| 449.0|\n",
      "| 1999|Alzheimer's disea...|            Delaware| 107.0|\n",
      "| 1999|Alzheimer's disea...|District of Columbia|  53.0|\n",
      "| 1999|Alzheimer's disea...|             Florida|3059.0|\n",
      "| 1999|Alzheimer's disea...|             Georgia|1080.0|\n",
      "| 1999|Alzheimer's disea...|              Hawaii| 109.0|\n",
      "| 1999|Alzheimer's disea...|               Idaho| 243.0|\n",
      "| 1999|Alzheimer's disea...|            Illinois|1908.0|\n",
      "| 1999|Alzheimer's disea...|             Indiana|1106.0|\n",
      "| 1999|Alzheimer's disea...|                Iowa| 706.0|\n",
      "| 1999|Alzheimer's disea...|              Kansas| 511.0|\n",
      "| 1999|Alzheimer's disea...|            Kentucky| 728.0|\n",
      "| 1999|Alzheimer's disea...|           Louisiana| 683.0|\n",
      "| 1999|Alzheimer's disea...|               Maine| 429.0|\n",
      "+-----+--------------------+--------------------+------+\n",
      "only showing top 20 rows\n",
      "\n"
     ]
    }
   ],
   "source": [
    "death.show()\n",
    "death.registerTempTable(\"Death_dataset\")"
   ]
  },
  {
   "cell_type": "code",
   "execution_count": 245,
   "metadata": {
    "collapsed": true
   },
   "outputs": [],
   "source": [
    "from pyspark.sql.types import IntegerType\n",
    "death=death.withColumn(\"Years\", death[\"Years\"].cast(IntegerType()))"
   ]
  },
  {
   "cell_type": "code",
   "execution_count": 246,
   "metadata": {},
   "outputs": [
    {
     "data": {
      "text/plain": [
       "DataFrame[summary: string, Years: string, 113 Cause Name: string, State: string, Deaths: string]"
      ]
     },
     "execution_count": 246,
     "metadata": {},
     "output_type": "execute_result"
    }
   ],
   "source": [
    "death.describe()"
   ]
  },
  {
   "cell_type": "markdown",
   "metadata": {},
   "source": [
    "<h1>The average number of deaths each year for each disease for each State<h1>"
   ]
  },
  {
   "cell_type": "code",
   "execution_count": 251,
   "metadata": {
    "collapsed": true
   },
   "outputs": [],
   "source": [
    "D=sqlContext.sql(\"SELECT  Years as Years,avg(CAST(Death_dataset.`Deaths` AS DOUBLE)) AS Deaths,State,`113 Cause Name` FROM Death_dataset GROUP BY  State,`113 Cause Name`, Years ORDER BY Years,State,Deaths\")\n"
   ]
  },
  {
   "cell_type": "code",
   "execution_count": 252,
   "metadata": {},
   "outputs": [
    {
     "data": {
      "text/plain": [
       "DataFrame[summary: string, Years: string, Deaths: string, State: string, 113 Cause Name: string]"
      ]
     },
     "execution_count": 252,
     "metadata": {},
     "output_type": "execute_result"
    }
   ],
   "source": [
    "D.registerTempTable(\"Disease\")\n",
    "D.describe()"
   ]
  },
  {
   "cell_type": "code",
   "execution_count": 253,
   "metadata": {
    "collapsed": true
   },
   "outputs": [],
   "source": [
    "from pyspark.sql.types import DoubleType\n",
    "\n",
    "D = D.withColumn(\"Deaths\", D[\"Deaths\"].cast(DoubleType()))"
   ]
  },
  {
   "cell_type": "code",
   "execution_count": 256,
   "metadata": {},
   "outputs": [
    {
     "name": "stdout",
     "output_type": "stream",
     "text": [
      "+-----+--------+--------------+--------------------+\n",
      "|Years|  Deaths|         State|      113 Cause Name|\n",
      "+-----+--------+--------------+--------------------+\n",
      "| 1999|725192.0| United States|Diseases of heart...|\n",
      "| 1999|549838.0| United States|Malignant neoplas...|\n",
      "| 1999|167366.0| United States|Cerebrovascular d...|\n",
      "| 1999|124181.0| United States|Chronic lower res...|\n",
      "| 1999| 71930.0|    California|Diseases of heart...|\n",
      "| 1999| 68399.0| United States|Diabetes mellitus...|\n",
      "| 1999| 63730.0| United States|Influenza and pne...|\n",
      "| 1999| 58987.0|      New York|Diseases of heart...|\n",
      "| 1999| 53067.0|    California|Malignant neoplas...|\n",
      "| 1999| 51434.0|       Florida|Diseases of heart...|\n",
      "| 1999| 44536.0| United States|Alzheimer's disea...|\n",
      "| 1999| 43418.0|         Texas|Diseases of heart...|\n",
      "| 1999| 41707.0|  Pennsylvania|Diseases of heart...|\n",
      "| 1999| 38478.0|       Florida|Malignant neoplas...|\n",
      "| 1999| 37609.0|      New York|Malignant neoplas...|\n",
      "| 1999| 35525.0| United States|Nephritis, nephro...|\n",
      "| 1999| 33387.0|      Illinois|Diseases of heart...|\n",
      "| 1999| 33192.0|          Ohio|Diseases of heart...|\n",
      "| 1999| 32755.0|         Texas|Malignant neoplas...|\n",
      "| 1999| 30680.0| United States|Septicemia (A40-A41)|\n",
      "| 1999| 30312.0|  Pennsylvania|Malignant neoplas...|\n",
      "| 1999| 27693.0|      Michigan|Diseases of heart...|\n",
      "| 1999| 26259.0| United States|Chronic liver dis...|\n",
      "| 1999| 25233.0|          Ohio|Malignant neoplas...|\n",
      "| 1999| 25024.0|      Illinois|Malignant neoplas...|\n",
      "| 1999| 23493.0|    New Jersey|Diseases of heart...|\n",
      "| 1999| 19744.0|      Michigan|Malignant neoplas...|\n",
      "| 1999| 19191.0|North Carolina|Diseases of heart...|\n",
      "| 1999| 18178.0|    New Jersey|Malignant neoplas...|\n",
      "| 1999| 17974.0|      Missouri|Diseases of heart...|\n",
      "| 1999| 17962.0|    California|Cerebrovascular d...|\n",
      "| 1999| 17597.0|       Georgia|Diseases of heart...|\n",
      "| 1999| 16968.0| United States|Essential hyperte...|\n",
      "| 1999| 16661.0|       Indiana|Diseases of heart...|\n",
      "| 1999| 16280.0|     Tennessee|Diseases of heart...|\n",
      "| 1999| 15871.0| Massachusetts|Diseases of heart...|\n",
      "| 1999| 15815.0|North Carolina|Malignant neoplas...|\n",
      "| 1999| 15329.0|      Virginia|Diseases of heart...|\n",
      "| 1999| 15268.0| United States|Pneumonitis due t...|\n",
      "| 1999| 14593.0| United States|Parkinson's disea...|\n",
      "| 1999| 13853.0| Massachusetts|Malignant neoplas...|\n",
      "| 1999| 13827.0|     Wisconsin|Diseases of heart...|\n",
      "| 1999| 13419.0|       Alabama|Diseases of heart...|\n",
      "| 1999| 13365.0|      Virginia|Malignant neoplas...|\n",
      "| 1999| 13225.0|       Georgia|Malignant neoplas...|\n",
      "| 1999| 13165.0|    California|Chronic lower res...|\n",
      "| 1999| 12898.0|       Indiana|Malignant neoplas...|\n",
      "| 1999| 12186.0|      Missouri|Malignant neoplas...|\n",
      "| 1999| 12098.0|      Kentucky|Diseases of heart...|\n",
      "| 1999| 12080.0|      Maryland|Diseases of heart...|\n",
      "| 1999| 12007.0|     Louisiana|Diseases of heart...|\n",
      "| 1999| 11943.0|     Tennessee|Malignant neoplas...|\n",
      "| 1999| 11515.0|    Washington|Diseases of heart...|\n",
      "| 1999| 11263.0|      Oklahoma|Diseases of heart...|\n",
      "| 1999| 10800.0|       Arizona|Diseases of heart...|\n",
      "| 1999| 10755.0|     Wisconsin|Malignant neoplas...|\n",
      "| 1999| 10653.0|    Washington|Malignant neoplas...|\n",
      "| 1999| 10560.0|       Florida|Cerebrovascular d...|\n",
      "| 1999| 10414.0|         Texas|Cerebrovascular d...|\n",
      "| 1999| 10143.0|      Maryland|Malignant neoplas...|\n",
      "| 1999|  9981.0|South Carolina|Diseases of heart...|\n",
      "| 1999|  9533.0|     Minnesota|Diseases of heart...|\n",
      "| 1999|  9506.0|       Alabama|Malignant neoplas...|\n",
      "| 1999|  9412.0|     Louisiana|Malignant neoplas...|\n",
      "| 1999|  9336.0|   Mississippi|Diseases of heart...|\n",
      "| 1999|  9131.0|       Florida|Chronic lower res...|\n",
      "| 1999|  9127.0|   Connecticut|Diseases of heart...|\n",
      "| 1999|  9006.0|       Arizona|Malignant neoplas...|\n",
      "| 1999|  8925.0|      Kentucky|Malignant neoplas...|\n",
      "| 1999|  8892.0|     Minnesota|Malignant neoplas...|\n",
      "| 1999|  8699.0|          Iowa|Diseases of heart...|\n",
      "| 1999|  8600.0|  Pennsylvania|Cerebrovascular d...|\n",
      "| 1999|  8315.0|      Arkansas|Diseases of heart...|\n",
      "| 1999|  8124.0|      New York|Cerebrovascular d...|\n",
      "| 1999|  8089.0|South Carolina|Malignant neoplas...|\n",
      "| 1999|  7714.0|      Illinois|Cerebrovascular d...|\n",
      "| 1999|  7518.0|         Texas|Chronic lower res...|\n",
      "| 1999|  7312.0|      Oklahoma|Malignant neoplas...|\n",
      "| 1999|  7263.0|        Oregon|Diseases of heart...|\n",
      "| 1999|  7235.0|          Ohio|Cerebrovascular d...|\n",
      "| 1999|  7086.0|      New York|Chronic lower res...|\n",
      "| 1999|  7054.0|   Connecticut|Malignant neoplas...|\n",
      "| 1999|  6975.0|        Kansas|Diseases of heart...|\n",
      "| 1999|  6905.0|        Oregon|Malignant neoplas...|\n",
      "| 1999|  6822.0| West Virginia|Diseases of heart...|\n",
      "| 1999|  6420.0|      Colorado|Diseases of heart...|\n",
      "| 1999|  6401.0|    California|Diabetes mellitus...|\n",
      "| 1999|  6346.0|          Iowa|Malignant neoplas...|\n",
      "| 1999|  6143.0|   Mississippi|Malignant neoplas...|\n",
      "| 1999|  6141.0|  Pennsylvania|Chronic lower res...|\n",
      "| 1999|  6137.0|      Arkansas|Malignant neoplas...|\n",
      "| 1999|  6041.0|      Michigan|Cerebrovascular d...|\n",
      "| 1999|  5863.0|      Colorado|Malignant neoplas...|\n",
      "| 1999|  5858.0|          Ohio|Chronic lower res...|\n",
      "| 1999|  5626.0|North Carolina|Cerebrovascular d...|\n",
      "| 1999|  5482.0|      New York|Influenza and pne...|\n",
      "| 1999|  5334.0|        Kansas|Malignant neoplas...|\n",
      "| 1999|  5155.0|      Illinois|Chronic lower res...|\n",
      "| 1999|  4931.0|         Texas|Diabetes mellitus...|\n",
      "| 1999|  4762.0| West Virginia|Malignant neoplas...|\n",
      "+-----+--------+--------------+--------------------+\n",
      "only showing top 100 rows\n",
      "\n"
     ]
    }
   ],
   "source": [
    "sqlContext.sql(\"SELECT * FROM Disease WHERE Deaths IS NOT NULL  GROUP BY `113 Cause Name`, Years,Deaths,State ORDER BY  Years, Deaths DESC\").show(100)"
   ]
  },
  {
   "cell_type": "code",
   "execution_count": 257,
   "metadata": {
    "collapsed": true
   },
   "outputs": [],
   "source": [
    "table=sqlContext.sql(\"SELECT * FROM Disease WHERE Deaths IS NOT NULL ORDER BY Deaths DESC\")\n",
    "table.registerTempTable(\"Death_Data_Set\")"
   ]
  },
  {
   "cell_type": "code",
   "execution_count": 259,
   "metadata": {},
   "outputs": [
    {
     "name": "stdout",
     "output_type": "stream",
     "text": [
      "+----------+--------------------+-----+------------+\n",
      "|Max_Deaths|              Causes|Years|       State|\n",
      "+----------+--------------------+-----+------------+\n",
      "|   71930.0|Diseases of heart...| 1999|  California|\n",
      "|   58987.0|Diseases of heart...| 1999|    New York|\n",
      "|   53067.0|Malignant neoplas...| 1999|  California|\n",
      "|   51434.0|Diseases of heart...| 1999|     Florida|\n",
      "|   43418.0|Diseases of heart...| 1999|       Texas|\n",
      "|   41707.0|Diseases of heart...| 1999|Pennsylvania|\n",
      "|   38478.0|Malignant neoplas...| 1999|     Florida|\n",
      "|   37609.0|Malignant neoplas...| 1999|    New York|\n",
      "|   33387.0|Diseases of heart...| 1999|    Illinois|\n",
      "|   33192.0|Diseases of heart...| 1999|        Ohio|\n",
      "+----------+--------------------+-----+------------+\n",
      "only showing top 10 rows\n",
      "\n"
     ]
    }
   ],
   "source": [
    "sqlContext.sql(\"SELECT MAX(Deaths) AS Max_Deaths,`113 Cause Name` as Causes, Years, State From Death_Data_Set WHERE State != 'United States' GROUP BY  Years, `113 Cause Name`, State ORDER BY Years,MAX(Deaths) DESC\").show(10)"
   ]
  },
  {
   "cell_type": "code",
   "execution_count": 271,
   "metadata": {
    "collapsed": true
   },
   "outputs": [],
   "source": [
    "result=sqlContext.sql(\"SELECT MAX(Deaths) AS Max_Deaths,`113 Cause Name` as Causes, Years as Yearly, State From Death_Data_Set WHERE State != 'United States' GROUP BY  Years, `113 Cause Name`, State ORDER BY Years,MAX(Deaths) DESC\")\n"
   ]
  },
  {
   "cell_type": "code",
   "execution_count": 273,
   "metadata": {
    "collapsed": true
   },
   "outputs": [],
   "source": [
    "from pyspark.sql.types import IntegerType\n",
    "result=result.withColumn(\"Yearly\", result[\"Yearly\"].cast(IntegerType()))\n",
    "result.registerTempTable(\"max_city_wise_death\")"
   ]
  },
  {
   "cell_type": "code",
   "execution_count": 279,
   "metadata": {},
   "outputs": [
    {
     "name": "stdout",
     "output_type": "stream",
     "text": [
      "root\n",
      " |-- Max_Deaths: double (nullable = true)\n",
      " |-- Causes: string (nullable = true)\n",
      " |-- Yearly: integer (nullable = true)\n",
      " |-- State: string (nullable = true)\n",
      "\n"
     ]
    }
   ],
   "source": [
    "result.printSchema()"
   ]
  },
  {
   "cell_type": "code",
   "execution_count": 278,
   "metadata": {},
   "outputs": [
    {
     "name": "stdout",
     "output_type": "stream",
     "text": [
      "root\n",
      " |-- State: string (nullable = true)\n",
      " |-- City: string (nullable = true)\n",
      " |-- Max_NO2_AQI: double (nullable = true)\n",
      " |-- Max_SO2_AQI: double (nullable = true)\n",
      " |-- MAX_O3_AQI: double (nullable = true)\n",
      " |-- Max_CO_AQI: double (nullable = true)\n",
      " |-- Yearly: integer (nullable = true)\n",
      "\n"
     ]
    }
   ],
   "source": [
    "t1.printSchema()"
   ]
  },
  {
   "cell_type": "markdown",
   "metadata": {},
   "source": [
    "<h3> Joining the Death Data set with the pollution data set to check how the pollution effects death in different cities. </h3>"
   ]
  },
  {
   "cell_type": "code",
   "execution_count": 292,
   "metadata": {},
   "outputs": [
    {
     "name": "stdout",
     "output_type": "stream",
     "text": [
      "+------+----------+--------------------+----------+--------------------+-----------+-----------+----------+----------+\n",
      "|Yearly|Max_Deaths|              Causes|     State|                City|Max_NO2_AQI|Max_SO2_AQI|Max_CO_AQI|MAX_O3_AQI|\n",
      "+------+----------+--------------------+----------+--------------------+-----------+-----------+----------+----------+\n",
      "|  2000|   68426.0|Diseases of heart...|California|       Bethel Island|       41.0|       26.0|      17.0|     124.0|\n",
      "|  2000|   68426.0|Diseases of heart...|California|             Vallejo|       62.0|       24.0|      57.0|      47.0|\n",
      "|  2000|   68426.0|Diseases of heart...|California|          Long Beach|      108.0|       65.0|      63.0|     114.0|\n",
      "|  2000|   68426.0|Diseases of heart...|California|         Victorville|       94.0|       36.0|      18.0|     179.0|\n",
      "|  2000|   68426.0|Diseases of heart...|California|       Not in a city|       84.0|       21.0|      35.0|     154.0|\n",
      "|  2000|   68426.0|Diseases of heart...|California|Vandenberg Air Fo...|       31.0|        6.0|       6.0|      80.0|\n",
      "|  2000|   68426.0|Diseases of heart...|California|           San Pablo|       64.0|       39.0|      22.0|      74.0|\n",
      "|  2000|   68426.0|Diseases of heart...|California|       San Francisco|       72.0|       27.0|      36.0|      36.0|\n",
      "|  2000|   68426.0|Diseases of heart...|California|           Davenport|       33.0|       33.0|       9.0|      47.0|\n",
      "|  2000|   68426.0|Diseases of heart...|California|           Pittsburg|       51.0|       40.0|      28.0|     111.0|\n",
      "+------+----------+--------------------+----------+--------------------+-----------+-----------+----------+----------+\n",
      "only showing top 10 rows\n",
      "\n"
     ]
    }
   ],
   "source": [
    "sqlContext.sql(\"SELECT Entire_Pollution.Yearly,max_city_wise_death.Max_Deaths, max_city_wise_death.Causes,max_city_wise_death.State,Entire_Pollution.City,Entire_Pollution.Max_NO2_AQI,Entire_Pollution.Max_SO2_AQI, Entire_Pollution.Max_CO_AQI,Entire_Pollution.MAX_O3_AQI FROM Entire_Pollution JOIN max_city_wise_death ON max_city_wise_death.State==Entire_Pollution.State AND Entire_Pollution.Yearly=max_city_wise_death.Yearly GROUP BY Entire_Pollution.Yearly,max_city_wise_death.State,Entire_Pollution.City,max_city_wise_death.Causes,max_city_wise_death.Max_Deaths, Entire_Pollution.Max_NO2_AQI,Entire_Pollution.Max_SO2_AQI, Entire_Pollution.Max_CO_AQI,Entire_Pollution.MAX_O3_AQI ORDER BY Entire_Pollution.Yearly ,max_city_wise_death.Max_Deaths DESC\").show(10)"
   ]
  },
  {
   "cell_type": "code",
   "execution_count": 294,
   "metadata": {
    "collapsed": true
   },
   "outputs": [],
   "source": [
    "Pollution_wise_Death=sqlContext.sql(\"SELECT Entire_Pollution.Yearly,max_city_wise_death.Max_Deaths, max_city_wise_death.Causes,max_city_wise_death.State,Entire_Pollution.City,Entire_Pollution.Max_NO2_AQI,Entire_Pollution.Max_SO2_AQI, Entire_Pollution.Max_CO_AQI,Entire_Pollution.MAX_O3_AQI FROM Entire_Pollution JOIN max_city_wise_death ON max_city_wise_death.State==Entire_Pollution.State AND Entire_Pollution.Yearly=max_city_wise_death.Yearly GROUP BY Entire_Pollution.Yearly,max_city_wise_death.State,Entire_Pollution.City,max_city_wise_death.Causes,max_city_wise_death.Max_Deaths, Entire_Pollution.Max_NO2_AQI,Entire_Pollution.Max_SO2_AQI, Entire_Pollution.Max_CO_AQI,Entire_Pollution.MAX_O3_AQI ORDER BY Entire_Pollution.Yearly ,max_city_wise_death.Max_Deaths DESC\")\n",
    "Pollution_wise_Death.toPandas().to_csv(\"Pollution_wise_Death.csv\")"
   ]
  },
  {
   "cell_type": "code",
   "execution_count": null,
   "metadata": {
    "collapsed": true
   },
   "outputs": [],
   "source": []
  },
  {
   "cell_type": "code",
   "execution_count": null,
   "metadata": {
    "collapsed": true
   },
   "outputs": [],
   "source": []
  }
 ],
 "metadata": {
  "kernelspec": {
   "display_name": "Python 3",
   "language": "python",
   "name": "python3"
  },
  "language_info": {
   "codemirror_mode": {
    "name": "ipython",
    "version": 3
   },
   "file_extension": ".py",
   "mimetype": "text/x-python",
   "name": "python",
   "nbconvert_exporter": "python",
   "pygments_lexer": "ipython3",
   "version": "3.6.1"
  }
 },
 "nbformat": 4,
 "nbformat_minor": 2
}
